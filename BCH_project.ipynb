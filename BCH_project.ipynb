{
  "nbformat": 4,
  "nbformat_minor": 0,
  "metadata": {
    "colab": {
      "provenance": [],
      "include_colab_link": true
    },
    "kernelspec": {
      "name": "python3",
      "display_name": "Python 3"
    },
    "language_info": {
      "name": "python"
    }
  },
  "cells": [
    {
      "cell_type": "markdown",
      "metadata": {
        "id": "view-in-github",
        "colab_type": "text"
      },
      "source": [
        "<a href=\"https://colab.research.google.com/github/Nablasquarednull/BCH_proyect/blob/main/BCH_project.ipynb\" target=\"_parent\"><img src=\"https://colab.research.google.com/assets/colab-badge.svg\" alt=\"Open In Colab\"/></a>"
      ]
    },
    {
      "cell_type": "code",
      "execution_count": null,
      "metadata": {
        "id": "zughhuU0wrGX"
      },
      "outputs": [],
      "source": [
        "from operator import indexOf\n",
        "import sympy\n",
        "from sympy import symbols\n",
        "from sympy.plotting import plot\n",
        "sympy.init_printing()\n",
        "from sympy import*\n",
        "from sympy.physics.quantum import *\n",
        "from sympy.physics.quantum import Operator, Commutator, AntiCommutator\n",
        "from sympy.physics.quantum import Dagger, Commutator\n",
        "from sympy.physics.quantum.boson import BosonOp\n",
        "from math import ceil\n",
        "from sympy.printing.latex import LatexPrinter, print_latex\n",
        "#-----------------------------\n",
        "#-----------------------------\n",
        "\n",
        "def collect_coeff(expresion,A): #factoriza el operador A de una expresión \"expresion\"\n",
        "  vt = 0\n",
        "  for k in range(len(expand(expresion).args)):\n",
        "    if (expand(expresion).args[k]).coeff(A)!=0:\n",
        "      vt+= (expand(expresion).args[k].coeff(A))\n",
        "  return (vt)*A\n",
        "#--------------------------------------\n",
        "def collect_coeff2(expresion,A): #factoriza el operador A de una expresión \"expresion\" NOTA AL DR. RAMOS: MODIFIQUÉ LA EXPRESIÓN FINAL: AHORA REGRESA (vt), antes regresaba (vt)*A\n",
        "  vt = 0\n",
        "  for k in range(len(expand(expresion).args)):\n",
        "    if (expand(expresion).args[k]).coeff(A)!=0:\n",
        "      vt+= (expand(expresion).args[k].coeff(A))\n",
        "  return (vt)\n",
        "#-----------------------------\n",
        "\"\"\"def conmutador(A,B):\n",
        "  return Commutator(A,B).expand(commutator=True).expand(commutator=True).subs({Commutator(x,p):I, Commutator(p,x):-I,Commutator(p,p):0,Commutator(x,x):0,\n",
        "\n",
        "                                                                               Commutator(a,a_dag):1,Commutator(a_dag,a):-1,Commutator(a_dag,a_dag):0,Commutator(a,a):0,\n",
        "\n",
        "                                                                               Commutator(sigmap,sigmam):sigmaz,Commutator(sigmam,sigmap):-sigmaz,\n",
        "                                                                               Commutator(sigmaz,sigmap):2*sigmap,\n",
        "                                                                               Commutator(sigmap,sigmaz):-2*sigmap,Commutator(sigmam,sigmaz):2*sigmam,\n",
        "                                                                               Commutator(sigmaz,sigmam):-2*sigmam,\n",
        "                                                                               Commutator(sigmap,sigmap):0,Commutator(sigmam,sigmam):0,Commutator(sigmaz,sigmaz):0})\n",
        "                                                                               \"\"\"\n",
        "# Define the commutator substitution dictionary\n",
        "\n",
        "\n",
        "# Optimized conmutador function\n",
        "def conmutador(A, B):\n",
        "    return Commutator(A, B).expand(commutator=True).expand(commutator=True).subs(commutator_subs)\n",
        "\n",
        "def com_order(A,B,n): #regresa el conmutador anidado [A,[A,..[A,B]] n veces.\n",
        "    if n<=1:\n",
        "        return conmutador(A,B)\n",
        "\n",
        "    else:\n",
        "        return com_order(A,conmutador(A,B),n-1)\n",
        "#-----------------------------\n",
        "class MyLatexPrinter(LatexPrinter):\n",
        "    \"\"\"Print derivative of a function of symbols in a shorter form.\n",
        "    \"\"\"\n",
        "    def _print_Derivative(self, expr):\n",
        "        function, *vars = expr.args\n",
        "        if not isinstance(type(function), UndefinedFunction) or \\\n",
        "           not all(isinstance(i, Symbol) for i in vars):\n",
        "            return super()._print_Derivative(expr)\n",
        "\n",
        "        # If you want the printer to work correctly for nested\n",
        "        # expressions then use self._print() instead of str() or latex().\n",
        "        # See the example of nested modulo below in the custom printing\n",
        "        # method section.\n",
        "        return \"{}_{{{}}}\".format(\n",
        "            self.print(Symbol(function.func.name_)),\n",
        "                        ''.join(self._print(i) for i in vars))\n",
        "\n",
        "\n",
        "def Latex(expr):\n",
        "    \"\"\" Most of the printers define their own wrappers for print().\n",
        "    These wrappers usually take printer settings. Our printer does not have\n",
        "    any settings.\n",
        "    \"\"\"\n",
        "    print(MyLatexPrinter().doprint(expr))\n",
        "#------------------------------\n",
        "def BCH(A, B, alpha, n): # Baker_Campbell_Hausdorff formula\n",
        "    a=0\n",
        "    for i in range(1,n+1):\n",
        "        a += (alpha**i/factorial(i))*com_order(A,B,i)\n",
        "    return (B + a)\n",
        "#-------------------------------\n",
        "def collect_all(expression,operator_list): # itera \"len(operator list)\" veces la función \"collect_coef\" y suma todas sus iteraciones.\n",
        "  a=0\n",
        "  for i in range(len(operator_list)):\n",
        "    a += collect_coeff(expression,operator_list[i])\n",
        "  return a\n",
        "#-------------------------------\n",
        "def collect_and_save_all(expression,operator_list):\n",
        "  coeff_list=[] #lista donde vamos a meter los coeficientes de cada operador\n",
        "  for z in range(len(operator_list)): #iterador para cada operador\n",
        "    a = collect_coeff2(expression,operator_list[z])\n",
        "    coeff_list.append(a)\n",
        "  return coeff_list\n",
        "#-------------------------------\n",
        "def compare_all(coeff_list,operator_list,n): #compara los coeficientes y los reemplaza.\n",
        "  list_1= coeff_list.copy()\n",
        "  functions = [cos, sin , exp] #lista de funciones para comparar\n",
        "  for z in range(len(operator_list)):\n",
        "    for i in functions: #iterador para cada funcion\n",
        "      for y in (-2,1,0,1,2): #iterador para el orden de las expansiones\n",
        "        if coeff_list[z] == series(i(omega*t),omega*t,0,n+y).removeO(): #funciones en 'functions' positivas\n",
        "          list_1[z] = i(omega*t)\n",
        "          break\n",
        "        elif coeff_list[z] == series(-i(omega*t),omega*t,0,n+y).removeO():# funciones en 'functions' negativas\n",
        "          list_1[z] = -i(omega*t)\n",
        "          break\n",
        "        elif coeff_list[z] == fraction(series(i(omega*t)/omega,omega,0,n+y).removeO())[0]: #funciones en 'functions' cardinales positivas\n",
        "          list_1[z] = i(omega*t)/omega\n",
        "          break\n",
        "        elif coeff_list[z] == fraction(series(-i(omega*t)/omega,omega,0,n+y).removeO())[0]:#funciones en 'functions' cardinales negativas\n",
        "          list_1[z] = -i(omega*t)/omega\n",
        "          break\n",
        "        elif coeff_list[z] == series(i(omega*t)*omega,omega,0,n+y).removeO(): #funciones en 'functions' cardinales positivas\n",
        "          list_1[z] = i(omega*t)*omega\n",
        "          break\n",
        "        elif coeff_list[z] == series(-i(omega*t)*omega,omega,0,n+y).removeO():#funciones en 'functions' cardinales negativas\n",
        "          list_1[z] = -i(omega*t)*omega\n",
        "          break\n",
        "\n",
        "  return list_1\n",
        "\n",
        "#-------------------------------\n",
        "def sum_collect(coef_list,operator_list):\n",
        "  a=0\n",
        "  for i in range(len(operator_list)):\n",
        "    a += coef_list[i]*(operator_list[i])\n",
        "  return a\n",
        "#-------------------------------\n",
        "\n",
        "def differentiate(T,t):\n",
        "  return T.diff(t)\n",
        " #-------------------------------\n",
        "def diff_term(T,t):\n",
        "  return - I*Dagger(T)*T.diff(t)\n",
        "#-------------------------------\n",
        "\n",
        "\n",
        "\n",
        "\n",
        "x     = Operator(r'\\hat{x}')\n",
        "p     = Operator(r'\\hat{p}')\n",
        "omega = symbols(r'\\omega', real = True)\n",
        "alpha = symbols(r'\\alpha')\n",
        "t     = symbols(r't', real = True)\n",
        "H     = Rational(1,2)*(p**2+omega**2*x**2)\n",
        "l =[x,p]\n",
        "sigmap = Operator(r'\\hat{\\sigma}_+')\n",
        "sigmam = Operator(r'\\hat{\\sigma}_-')\n",
        "sigmaz = Operator(r'\\hat{\\sigma}_z')\n",
        "\n",
        "H_2 = sigmaz + sigmap + sigmam\n",
        "l_2 = [sigmaz,sigmap,sigmam]\n",
        "#---------------------------------------\n",
        "a_dag = Operator(r'\\hat{a}^{\\dagger}')\n",
        "a = Operator(r'\\hat{a}')\n",
        "H_3 = omega*(a_dag*a+1/2)\n",
        "l_3 = [a,a_dag]\n",
        "#---------------------------------------\n",
        "commutator_subs = {\n",
        "    Commutator(x, p): I,\n",
        "    Commutator(p, x): -I,\n",
        "    Commutator(p, p): 0,\n",
        "    Commutator(x, x): 0,\n",
        "\n",
        "    Commutator(a, a_dag): 1,\n",
        "    Commutator(a_dag, a): -1,\n",
        "    Commutator(a_dag, a_dag): 0,\n",
        "    Commutator(a, a): 0,\n",
        "\n",
        "    Commutator(sigmap, sigmam): sigmaz,\n",
        "    Commutator(sigmam, sigmap): -sigmaz,\n",
        "\n",
        "    Commutator(sigmaz, sigmap): 2 * sigmap,\n",
        "    Commutator(sigmap, sigmaz): -2 * sigmap,\n",
        "    Commutator(sigmam, sigmaz): 2 * sigmam,\n",
        "    Commutator(sigmaz, sigmam): -2 * sigmam,\n",
        "\n",
        "    Commutator(sigmap, sigmap): 0,\n",
        "    Commutator(sigmam, sigmam): 0,\n",
        "    Commutator(sigmaz, sigmaz): 0,\n",
        "}\n",
        "#--------------------------------------------\n",
        "orden = 8"
      ]
    },
    {
      "cell_type": "code",
      "source": [
        "BCH_X = BCH(H,x,alpha,orden).subs({alpha:I*t})\n",
        "BCH_X"
      ],
      "metadata": {
        "id": "NPk7JPlz2YxJ",
        "colab": {
          "base_uri": "https://localhost:8080/",
          "height": 54
        },
        "outputId": "007b5a48-c0d1-46da-e97a-a655ac0cad2b"
      },
      "execution_count": null,
      "outputs": [
        {
          "output_type": "execute_result",
          "data": {
            "text/plain": [
              "      8  8                 6  7                 6  6                 4  5                 4  4     ↪\n",
              "\\omega ⋅t ⋅\\hat{x}   \\omega ⋅t ⋅\\hat{p}   \\omega ⋅t ⋅\\hat{x}   \\omega ⋅t ⋅\\hat{p}   \\omega ⋅t ⋅\\ha ↪\n",
              "────────────────── - ────────────────── - ────────────────── + ────────────────── + ────────────── ↪\n",
              "      40320                 5040                 720                  120                   24     ↪\n",
              "\n",
              "↪              2  3                 2  2                              \n",
              "↪ t{x}   \\omega ⋅t ⋅\\hat{p}   \\omega ⋅t ⋅\\hat{x}                      \n",
              "↪ ──── - ────────────────── - ────────────────── + t⋅\\hat{p} + \\hat{x}\n",
              "↪                6                    2                               "
            ],
            "text/latex": "$\\displaystyle \\frac{\\omega^{8} t^{8} \\hat{x}}{40320} - \\frac{\\omega^{6} t^{7} \\hat{p}}{5040} - \\frac{\\omega^{6} t^{6} \\hat{x}}{720} + \\frac{\\omega^{4} t^{5} \\hat{p}}{120} + \\frac{\\omega^{4} t^{4} \\hat{x}}{24} - \\frac{\\omega^{2} t^{3} \\hat{p}}{6} - \\frac{\\omega^{2} t^{2} \\hat{x}}{2} + t \\hat{p} + \\hat{x}$"
          },
          "metadata": {},
          "execution_count": 7
        }
      ]
    },
    {
      "cell_type": "code",
      "source": [
        "BCH_X_1 = collect_all(BCH_X,l)\n",
        "BCH_X_1"
      ],
      "metadata": {
        "colab": {
          "base_uri": "https://localhost:8080/",
          "height": 58
        },
        "id": "dhC4qzRBjlGw",
        "outputId": "69445eda-f36e-4db2-f4bf-0b9880fd4507"
      },
      "execution_count": null,
      "outputs": [
        {
          "output_type": "execute_result",
          "data": {
            "text/plain": [
              "⎛        6  7         4  5         2  3    ⎞           ⎛      8  8         6  6         4  4       ↪\n",
              "⎜  \\omega ⋅t    \\omega ⋅t    \\omega ⋅t     ⎟           ⎜\\omega ⋅t    \\omega ⋅t    \\omega ⋅t    \\om ↪\n",
              "⎜- ────────── + ────────── - ────────── + t⎟⋅\\hat{p} + ⎜────────── - ────────── + ────────── - ─── ↪\n",
              "⎝     5040         120           6         ⎠           ⎝  40320         720           24           ↪\n",
              "\n",
              "↪    2  2    ⎞        \n",
              "↪ ega ⋅t     ⎟        \n",
              "↪ ─────── + 1⎟⋅\\hat{x}\n",
              "↪  2         ⎠        "
            ],
            "text/latex": "$\\displaystyle \\left(- \\frac{\\omega^{6} t^{7}}{5040} + \\frac{\\omega^{4} t^{5}}{120} - \\frac{\\omega^{2} t^{3}}{6} + t\\right) \\hat{p} + \\left(\\frac{\\omega^{8} t^{8}}{40320} - \\frac{\\omega^{6} t^{6}}{720} + \\frac{\\omega^{4} t^{4}}{24} - \\frac{\\omega^{2} t^{2}}{2} + 1\\right) \\hat{x}$"
          },
          "metadata": {},
          "execution_count": 8
        }
      ]
    },
    {
      "cell_type": "code",
      "source": [
        "BCH_X_2 = collect_and_save_all(BCH_X,l)\n",
        "BCH_X_2"
      ],
      "metadata": {
        "colab": {
          "base_uri": "https://localhost:8080/",
          "height": 58
        },
        "id": "qy6DTfM_j3MQ",
        "outputId": "1ec4fff3-cead-4e2d-f8ac-dca8b67cdca8"
      },
      "execution_count": null,
      "outputs": [
        {
          "output_type": "execute_result",
          "data": {
            "text/plain": [
              "⎡      8  8         6  6         4  4         2  2              6  7         4  5         2  3    ⎤\n",
              "⎢\\omega ⋅t    \\omega ⋅t    \\omega ⋅t    \\omega ⋅t         \\omega ⋅t    \\omega ⋅t    \\omega ⋅t     ⎥\n",
              "⎢────────── - ────────── + ────────── - ────────── + 1, - ────────── + ────────── - ────────── + t⎥\n",
              "⎣  40320         720           24           2                5040         120           6         ⎦"
            ],
            "text/latex": "$\\displaystyle \\left[ \\frac{\\omega^{8} t^{8}}{40320} - \\frac{\\omega^{6} t^{6}}{720} + \\frac{\\omega^{4} t^{4}}{24} - \\frac{\\omega^{2} t^{2}}{2} + 1, \\  - \\frac{\\omega^{6} t^{7}}{5040} + \\frac{\\omega^{4} t^{5}}{120} - \\frac{\\omega^{2} t^{3}}{6} + t\\right]$"
          },
          "metadata": {},
          "execution_count": 10
        }
      ]
    },
    {
      "cell_type": "code",
      "source": [
        "BCH_X_3 = compare_all(BCH_X_2,l,orden)\n",
        "BCH_X_3"
      ],
      "metadata": {
        "colab": {
          "base_uri": "https://localhost:8080/",
          "height": 58
        },
        "id": "NQ1Hlhthkr7q",
        "outputId": "890cf1f7-cb1b-49ea-e4e2-83164c75f09b"
      },
      "execution_count": null,
      "outputs": [
        {
          "output_type": "execute_result",
          "data": {
            "text/plain": [
              "⎡               sin(\\omega⋅t)⎤\n",
              "⎢cos(\\omega⋅t), ─────────────⎥\n",
              "⎣                  \\omega    ⎦"
            ],
            "text/latex": "$\\displaystyle \\left[ \\cos{\\left(\\omega t \\right)}, \\  \\frac{\\sin{\\left(\\omega t \\right)}}{\\omega}\\right]$"
          },
          "metadata": {},
          "execution_count": 11
        }
      ]
    },
    {
      "cell_type": "code",
      "source": [
        "BCH_X_4 = sum_collect(BCH_X_3,l)\n",
        "BCH_X_4"
      ],
      "metadata": {
        "colab": {
          "base_uri": "https://localhost:8080/",
          "height": 53
        },
        "id": "KhJi1A2AlL_C",
        "outputId": "4e2788c8-5648-44b6-b6b4-89650595c6db"
      },
      "execution_count": null,
      "outputs": [
        {
          "output_type": "execute_result",
          "data": {
            "text/plain": [
              "                        sin(\\omega⋅t)⋅\\hat{p}\n",
              "cos(\\omega⋅t)⋅\\hat{x} + ─────────────────────\n",
              "                               \\omega        "
            ],
            "text/latex": "$\\displaystyle \\cos{\\left(\\omega t \\right)} \\hat{x} + \\frac{\\sin{\\left(\\omega t \\right)} \\hat{p}}{\\omega}$"
          },
          "metadata": {},
          "execution_count": 7
        }
      ]
    },
    {
      "cell_type": "code",
      "source": [
        "BCH_P = BCH(H,p,alpha,orden).subs({alpha:I*t})\n",
        "BCH_P"
      ],
      "metadata": {
        "colab": {
          "base_uri": "https://localhost:8080/",
          "height": 54
        },
        "id": "CE1vnqYHmJRA",
        "outputId": "4f7b9392-bc78-45b1-dfab-bf43be193381"
      },
      "execution_count": null,
      "outputs": [
        {
          "output_type": "execute_result",
          "data": {
            "text/plain": [
              "        10  9                 8  8                 8  7                 6  6                 6  5  ↪\n",
              "  \\omega  ⋅t ⋅\\hat{x}   \\omega ⋅t ⋅\\hat{p}   \\omega ⋅t ⋅\\hat{x}   \\omega ⋅t ⋅\\hat{p}   \\omega ⋅t ⋅ ↪\n",
              "- ─────────────────── + ────────────────── + ────────────────── - ────────────────── - ─────────── ↪\n",
              "        362880                40320                 5040                 720                  120  ↪\n",
              "\n",
              "↪                 4  4                 4  3                 2  2                                   ↪\n",
              "↪ \\hat{x}   \\omega ⋅t ⋅\\hat{p}   \\omega ⋅t ⋅\\hat{x}   \\omega ⋅t ⋅\\hat{p}         2                 ↪\n",
              "↪ ─────── + ────────────────── + ────────────────── - ────────────────── - \\omega ⋅t⋅\\hat{x} + \\ha ↪\n",
              "↪                   24                   6                    2                                    ↪\n",
              "\n",
              "↪     \n",
              "↪     \n",
              "↪ t{p}\n",
              "↪     "
            ],
            "text/latex": "$\\displaystyle - \\frac{\\omega^{10} t^{9} \\hat{x}}{362880} + \\frac{\\omega^{8} t^{8} \\hat{p}}{40320} + \\frac{\\omega^{8} t^{7} \\hat{x}}{5040} - \\frac{\\omega^{6} t^{6} \\hat{p}}{720} - \\frac{\\omega^{6} t^{5} \\hat{x}}{120} + \\frac{\\omega^{4} t^{4} \\hat{p}}{24} + \\frac{\\omega^{4} t^{3} \\hat{x}}{6} - \\frac{\\omega^{2} t^{2} \\hat{p}}{2} - \\omega^{2} t \\hat{x} + \\hat{p}$"
          },
          "metadata": {},
          "execution_count": 76
        }
      ]
    },
    {
      "cell_type": "code",
      "source": [
        "BCH_P_1 = collect_all(BCH_P,l)\n",
        "BCH_P_1"
      ],
      "metadata": {
        "colab": {
          "base_uri": "https://localhost:8080/",
          "height": 58
        },
        "id": "ewD9P4umnPHo",
        "outputId": "37a293f2-ba2e-4294-9f2d-4f16d00de950"
      },
      "execution_count": null,
      "outputs": [
        {
          "output_type": "execute_result",
          "data": {
            "text/plain": [
              "⎛      8  8         6  6         4  4         2  2    ⎞           ⎛        10  9         8  7      ↪\n",
              "⎜\\omega ⋅t    \\omega ⋅t    \\omega ⋅t    \\omega ⋅t     ⎟           ⎜  \\omega  ⋅t    \\omega ⋅t    \\o ↪\n",
              "⎜────────── - ────────── + ────────── - ────────── + 1⎟⋅\\hat{p} + ⎜- ─────────── + ────────── - ── ↪\n",
              "⎝  40320         720           24           2         ⎠           ⎝    362880         5040         ↪\n",
              "\n",
              "↪     6  5         4  3            ⎞        \n",
              "↪ mega ⋅t    \\omega ⋅t          2  ⎟        \n",
              "↪ ──────── + ────────── - \\omega ⋅t⎟⋅\\hat{x}\n",
              "↪  120           6                 ⎠        "
            ],
            "text/latex": "$\\displaystyle \\left(\\frac{\\omega^{8} t^{8}}{40320} - \\frac{\\omega^{6} t^{6}}{720} + \\frac{\\omega^{4} t^{4}}{24} - \\frac{\\omega^{2} t^{2}}{2} + 1\\right) \\hat{p} + \\left(- \\frac{\\omega^{10} t^{9}}{362880} + \\frac{\\omega^{8} t^{7}}{5040} - \\frac{\\omega^{6} t^{5}}{120} + \\frac{\\omega^{4} t^{3}}{6} - \\omega^{2} t\\right) \\hat{x}$"
          },
          "metadata": {},
          "execution_count": 77
        }
      ]
    },
    {
      "cell_type": "code",
      "source": [
        "BCH_P_2 = collect_and_save_all(BCH_P,l)\n",
        "BCH_P_2"
      ],
      "metadata": {
        "colab": {
          "base_uri": "https://localhost:8080/",
          "height": 58
        },
        "id": "BIMWK5xfnTUl",
        "outputId": "f7c1cf41-fc36-4935-9ecc-40576677d6d3"
      },
      "execution_count": null,
      "outputs": [
        {
          "output_type": "execute_result",
          "data": {
            "text/plain": [
              "⎡        10  9         8  7         6  5         4  3                    8  8         6  6         ↪\n",
              "⎢  \\omega  ⋅t    \\omega ⋅t    \\omega ⋅t    \\omega ⋅t          2    \\omega ⋅t    \\omega ⋅t    \\omeg ↪\n",
              "⎢- ─────────── + ────────── - ────────── + ────────── - \\omega ⋅t, ────────── - ────────── + ───── ↪\n",
              "⎣    362880         5040         120           6                     40320         720           2 ↪\n",
              "\n",
              "↪  4  4         2  2    ⎤\n",
              "↪ a ⋅t    \\omega ⋅t     ⎥\n",
              "↪ ───── - ────────── + 1⎥\n",
              "↪ 4           2         ⎦"
            ],
            "text/latex": "$\\displaystyle \\left[ - \\frac{\\omega^{10} t^{9}}{362880} + \\frac{\\omega^{8} t^{7}}{5040} - \\frac{\\omega^{6} t^{5}}{120} + \\frac{\\omega^{4} t^{3}}{6} - \\omega^{2} t, \\  \\frac{\\omega^{8} t^{8}}{40320} - \\frac{\\omega^{6} t^{6}}{720} + \\frac{\\omega^{4} t^{4}}{24} - \\frac{\\omega^{2} t^{2}}{2} + 1\\right]$"
          },
          "metadata": {},
          "execution_count": 78
        }
      ]
    },
    {
      "cell_type": "code",
      "source": [
        "BCH_P_3 = compare_all(BCH_P_2,l,orden)\n",
        "BCH_P_3"
      ],
      "metadata": {
        "colab": {
          "base_uri": "https://localhost:8080/",
          "height": 38
        },
        "id": "VJtr-DCznWl4",
        "outputId": "7e6acb4e-a9e6-4086-87ba-b02df1eaf216"
      },
      "execution_count": null,
      "outputs": [
        {
          "output_type": "execute_result",
          "data": {
            "text/plain": [
              "[-\\omega⋅sin(\\omega⋅t), cos(\\omega⋅t)]"
            ],
            "text/latex": "$\\displaystyle \\left[ - \\omega \\sin{\\left(\\omega t \\right)}, \\  \\cos{\\left(\\omega t \\right)}\\right]$"
          },
          "metadata": {},
          "execution_count": 80
        }
      ]
    },
    {
      "cell_type": "code",
      "source": [
        "BCH_P_4 = sum_collect(BCH_P_3,l)\n",
        "BCH_P_4"
      ],
      "metadata": {
        "id": "jWn7PQQZnmfG",
        "outputId": "23d2f4d8-6fa5-4ba2-cc54-d3fdb36d94aa",
        "colab": {
          "base_uri": "https://localhost:8080/",
          "height": 38
        }
      },
      "execution_count": null,
      "outputs": [
        {
          "output_type": "execute_result",
          "data": {
            "text/plain": [
              "-\\omega⋅sin(\\omega⋅t)⋅\\hat{x} + cos(\\omega⋅t)⋅\\hat{p}"
            ],
            "text/latex": "$\\displaystyle - \\omega \\sin{\\left(\\omega t \\right)} \\hat{x} + \\cos{\\left(\\omega t \\right)} \\hat{p}$"
          },
          "metadata": {},
          "execution_count": 81
        }
      ]
    },
    {
      "cell_type": "code",
      "source": [
        "BCH_sigma = BCH(H_2,sigmaz,alpha,7).subs({alpha:I*t})\n",
        "BCH_sigma"
      ],
      "metadata": {
        "colab": {
          "base_uri": "https://localhost:8080/",
          "height": 91
        },
        "id": "jPaIPcC6R7T-",
        "outputId": "2df20435-3eb0-485f-ac3a-29079de5cba1"
      },
      "execution_count": null,
      "outputs": [
        {
          "output_type": "execute_result",
          "data": {
            "text/plain": [
              "     7                                               6                                             ↪\n",
              "  ⅈ⋅t ⋅(-1024⋅\\hat{\\sigma}₊ + 1024⋅\\hat{\\sigma}₋)   t ⋅(-256⋅\\hat{\\sigma}₊ - 256⋅\\hat{\\sigma}₋ + 2 ↪\n",
              "- ─────────────────────────────────────────────── - ────────────────────────────────────────────── ↪\n",
              "                       5040                                                       720              ↪\n",
              "\n",
              "↪                         5                                             4                          ↪\n",
              "↪ 56⋅\\hat{\\sigma}_z)   ⅈ⋅t ⋅(-128⋅\\hat{\\sigma}₊ + 128⋅\\hat{\\sigma}₋)   t ⋅(-32⋅\\hat{\\sigma}₊ - 32⋅ ↪\n",
              "↪ ────────────────── + ───────────────────────────────────────────── + ─────────────────────────── ↪\n",
              "↪                                           120                                                    ↪\n",
              "\n",
              "↪                                         3                                           2            ↪\n",
              "↪ \\hat{\\sigma}₋ + 32⋅\\hat{\\sigma}_z)   ⅈ⋅t ⋅(-16⋅\\hat{\\sigma}₊ + 16⋅\\hat{\\sigma}₋)   t ⋅(-4⋅\\hat{\\ ↪\n",
              "↪ ────────────────────────────────── - ─────────────────────────────────────────── - ───────────── ↪\n",
              "↪   24                                                      6                                      ↪\n",
              "\n",
              "↪                                                                                                  ↪\n",
              "↪ sigma}₊ - 4⋅\\hat{\\sigma}₋ + 4⋅\\hat{\\sigma}_z)                                                    ↪\n",
              "↪ ───────────────────────────────────────────── + ⅈ⋅t⋅(-2⋅\\hat{\\sigma}₊ + 2⋅\\hat{\\sigma}₋) + \\hat{ ↪\n",
              "↪                2                                                                                 ↪\n",
              "\n",
              "↪          \n",
              "↪          \n",
              "↪ \\sigma}_z\n",
              "↪          "
            ],
            "text/latex": "$\\displaystyle - \\frac{i t^{7} \\left(- 1024 \\hat{\\sigma}_+ + 1024 \\hat{\\sigma}_-\\right)}{5040} - \\frac{t^{6} \\left(- 256 \\hat{\\sigma}_+ - 256 \\hat{\\sigma}_- + 256 \\hat{\\sigma}_z\\right)}{720} + \\frac{i t^{5} \\left(- 128 \\hat{\\sigma}_+ + 128 \\hat{\\sigma}_-\\right)}{120} + \\frac{t^{4} \\left(- 32 \\hat{\\sigma}_+ - 32 \\hat{\\sigma}_- + 32 \\hat{\\sigma}_z\\right)}{24} - \\frac{i t^{3} \\left(- 16 \\hat{\\sigma}_+ + 16 \\hat{\\sigma}_-\\right)}{6} - \\frac{t^{2} \\left(- 4 \\hat{\\sigma}_+ - 4 \\hat{\\sigma}_- + 4 \\hat{\\sigma}_z\\right)}{2} + i t \\left(- 2 \\hat{\\sigma}_+ + 2 \\hat{\\sigma}_-\\right) + \\hat{\\sigma}_z$"
          },
          "metadata": {},
          "execution_count": 65
        }
      ]
    },
    {
      "cell_type": "code",
      "source": [
        "BCH_sigma_1 = collect_all(BCH_sigma,l_2)\n",
        "BCH_sigma_1"
      ],
      "metadata": {
        "colab": {
          "base_uri": "https://localhost:8080/",
          "height": 100
        },
        "id": "alRyv3VSyQJx",
        "outputId": "e9fb5ad0-c94f-42c3-b79c-b26221ebcebe"
      },
      "execution_count": null,
      "outputs": [
        {
          "output_type": "execute_result",
          "data": {
            "text/plain": [
              "⎛      6      4           ⎞                  ⎛        7       6         5      4        3          ↪\n",
              "⎜  16⋅t    4⋅t       2    ⎟                  ⎜  64⋅ⅈ⋅t    16⋅t    16⋅ⅈ⋅t    4⋅t    8⋅ⅈ⋅t       2   ↪\n",
              "⎜- ───── + ──── - 2⋅t  + 1⎟⋅\\hat{\\sigma}_z + ⎜- ─────── + ───── + ─────── - ──── - ────── + 2⋅t  + ↪\n",
              "⎝   45      3             ⎠                  ⎝    315      45       15       3       3             ↪\n",
              "\n",
              "↪       ⎞                 ⎛      7       6         5      4        3               ⎞              \n",
              "↪       ⎟                 ⎜64⋅ⅈ⋅t    16⋅t    16⋅ⅈ⋅t    4⋅t    8⋅ⅈ⋅t       2        ⎟              \n",
              "↪  2⋅ⅈ⋅t⎟⋅\\hat{\\sigma}₋ + ⎜─────── + ───── - ─────── - ──── + ────── + 2⋅t  - 2⋅ⅈ⋅t⎟⋅\\hat{\\sigma}₊\n",
              "↪       ⎠                 ⎝  315      45       15       3       3                  ⎠              "
            ],
            "text/latex": "$\\displaystyle \\left(- \\frac{16 t^{6}}{45} + \\frac{4 t^{4}}{3} - 2 t^{2} + 1\\right) \\hat{\\sigma}_z + \\left(- \\frac{64 i t^{7}}{315} + \\frac{16 t^{6}}{45} + \\frac{16 i t^{5}}{15} - \\frac{4 t^{4}}{3} - \\frac{8 i t^{3}}{3} + 2 t^{2} + 2 i t\\right) \\hat{\\sigma}_- + \\left(\\frac{64 i t^{7}}{315} + \\frac{16 t^{6}}{45} - \\frac{16 i t^{5}}{15} - \\frac{4 t^{4}}{3} + \\frac{8 i t^{3}}{3} + 2 t^{2} - 2 i t\\right) \\hat{\\sigma}_+$"
          },
          "metadata": {},
          "execution_count": 66
        }
      ]
    },
    {
      "cell_type": "code",
      "source": [
        "(I*series(sin(t)**2,t,0,8).removeO()).expand()"
      ],
      "metadata": {
        "colab": {
          "base_uri": "https://localhost:8080/",
          "height": 54
        },
        "id": "hbylRQS_nDOY",
        "outputId": "8fe52a22-aeee-47b2-cd09-00c06707d452"
      },
      "execution_count": null,
      "outputs": [
        {
          "output_type": "execute_result",
          "data": {
            "text/plain": [
              "     6      4       \n",
              "2⋅ⅈ⋅t    ⅈ⋅t       2\n",
              "────── - ──── + ⅈ⋅t \n",
              "  45      3         "
            ],
            "text/latex": "$\\displaystyle \\frac{2 i t^{6}}{45} - \\frac{i t^{4}}{3} + i t^{2}$"
          },
          "metadata": {},
          "execution_count": 51
        }
      ]
    },
    {
      "cell_type": "code",
      "source": [
        "BCH_sigma_2 = collect_and_save_all(BCH_sigma,l_2)\n",
        "BCH_sigma_2"
      ],
      "metadata": {
        "colab": {
          "base_uri": "https://localhost:8080/",
          "height": 58
        },
        "id": "s9XnDF7TymQ4",
        "outputId": "9d972932-8441-45fe-8bbe-1ccd5aa97d56"
      },
      "execution_count": null,
      "outputs": [
        {
          "output_type": "execute_result",
          "data": {
            "text/plain": [
              "⎡      6      4                   7       6         5      4        3                         7    ↪\n",
              "⎢  16⋅t    4⋅t       2      64⋅ⅈ⋅t    16⋅t    16⋅ⅈ⋅t    4⋅t    8⋅ⅈ⋅t       2            64⋅ⅈ⋅t     ↪\n",
              "⎢- ───── + ──── - 2⋅t  + 1, ─────── + ───── - ─────── - ──── + ────── + 2⋅t  - 2⋅ⅈ⋅t, - ─────── +  ↪\n",
              "⎣   45      3                 315      45       15       3       3                        315      ↪\n",
              "\n",
              "↪     6         5      4        3               ⎤\n",
              "↪ 16⋅t    16⋅ⅈ⋅t    4⋅t    8⋅ⅈ⋅t       2        ⎥\n",
              "↪ ───── + ─────── - ──── - ────── + 2⋅t  + 2⋅ⅈ⋅t⎥\n",
              "↪  45       15       3       3                  ⎦"
            ],
            "text/latex": "$\\displaystyle \\left[ - \\frac{16 t^{6}}{45} + \\frac{4 t^{4}}{3} - 2 t^{2} + 1, \\  \\frac{64 i t^{7}}{315} + \\frac{16 t^{6}}{45} - \\frac{16 i t^{5}}{15} - \\frac{4 t^{4}}{3} + \\frac{8 i t^{3}}{3} + 2 t^{2} - 2 i t, \\  - \\frac{64 i t^{7}}{315} + \\frac{16 t^{6}}{45} + \\frac{16 i t^{5}}{15} - \\frac{4 t^{4}}{3} - \\frac{8 i t^{3}}{3} + 2 t^{2} + 2 i t\\right]$"
          },
          "metadata": {},
          "execution_count": 67
        }
      ]
    },
    {
      "cell_type": "code",
      "source": [
        "BCH_sigma_3 = compare_all(BCH_sigma_2,l_2,7)\n",
        "BCH_sigma_3"
      ],
      "metadata": {
        "colab": {
          "base_uri": "https://localhost:8080/",
          "height": 58
        },
        "id": "GIkFqkBNEK5g",
        "outputId": "7c1af6b2-f443-43ae-e27f-f0bc75fc5233"
      },
      "execution_count": null,
      "outputs": [
        {
          "output_type": "execute_result",
          "data": {
            "text/plain": [
              "⎡      6      4                   7       6         5      4        3                         7    ↪\n",
              "⎢  16⋅t    4⋅t       2      64⋅ⅈ⋅t    16⋅t    16⋅ⅈ⋅t    4⋅t    8⋅ⅈ⋅t       2            64⋅ⅈ⋅t     ↪\n",
              "⎢- ───── + ──── - 2⋅t  + 1, ─────── + ───── - ─────── - ──── + ────── + 2⋅t  - 2⋅ⅈ⋅t, - ─────── +  ↪\n",
              "⎣   45      3                 315      45       15       3       3                        315      ↪\n",
              "\n",
              "↪     6         5      4        3               ⎤\n",
              "↪ 16⋅t    16⋅ⅈ⋅t    4⋅t    8⋅ⅈ⋅t       2        ⎥\n",
              "↪ ───── + ─────── - ──── - ────── + 2⋅t  + 2⋅ⅈ⋅t⎥\n",
              "↪  45       15       3       3                  ⎦"
            ],
            "text/latex": "$\\displaystyle \\left[ - \\frac{16 t^{6}}{45} + \\frac{4 t^{4}}{3} - 2 t^{2} + 1, \\  \\frac{64 i t^{7}}{315} + \\frac{16 t^{6}}{45} - \\frac{16 i t^{5}}{15} - \\frac{4 t^{4}}{3} + \\frac{8 i t^{3}}{3} + 2 t^{2} - 2 i t, \\  - \\frac{64 i t^{7}}{315} + \\frac{16 t^{6}}{45} + \\frac{16 i t^{5}}{15} - \\frac{4 t^{4}}{3} - \\frac{8 i t^{3}}{3} + 2 t^{2} + 2 i t\\right]$"
          },
          "metadata": {},
          "execution_count": 68
        }
      ]
    },
    {
      "cell_type": "code",
      "source": [
        "BCH_A = BCH(H_3,a_dag,alpha,7).subs({alpha:I*t})\n",
        "BCH_A"
      ],
      "metadata": {
        "colab": {
          "base_uri": "https://localhost:8080/",
          "height": 54
        },
        "id": "Oi55lXI0NLDQ",
        "outputId": "ae74bfd5-56ee-446a-a495-ac76b16f3a7d"
      },
      "execution_count": null,
      "outputs": [
        {
          "output_type": "execute_result",
          "data": {
            "text/plain": [
              "          7  7                            6  6                              5  5                   ↪\n",
              "  ⅈ⋅\\omega ⋅t ⋅\\hat{a}__{\\dagger}   \\omega ⋅t ⋅\\hat{a}__{\\dagger}   ⅈ⋅\\omega ⋅t ⋅\\hat{a}__{\\dagger ↪\n",
              "- ─────────────────────────────── - ───────────────────────────── + ────────────────────────────── ↪\n",
              "               5040                              720                              120              ↪\n",
              "\n",
              "↪           4  4                              3  3                            2  2                 ↪\n",
              "↪ }   \\omega ⋅t ⋅\\hat{a}__{\\dagger}   ⅈ⋅\\omega ⋅t ⋅\\hat{a}__{\\dagger}   \\omega ⋅t ⋅\\hat{a}__{\\dagg ↪\n",
              "↪ ─ + ───────────────────────────── - ─────────────────────────────── - ────────────────────────── ↪\n",
              "↪                  24                                6                                2            ↪\n",
              "\n",
              "↪                                                         \n",
              "↪ er}                                                     \n",
              "↪ ─── + ⅈ⋅\\omega⋅t⋅\\hat{a}__{\\dagger} + \\hat{a}__{\\dagger}\n",
              "↪                                                         "
            ],
            "text/latex": "$\\displaystyle - \\frac{i \\omega^{7} t^{7} \\hat{a}^{\\dagger}}{5040} - \\frac{\\omega^{6} t^{6} \\hat{a}^{\\dagger}}{720} + \\frac{i \\omega^{5} t^{5} \\hat{a}^{\\dagger}}{120} + \\frac{\\omega^{4} t^{4} \\hat{a}^{\\dagger}}{24} - \\frac{i \\omega^{3} t^{3} \\hat{a}^{\\dagger}}{6} - \\frac{\\omega^{2} t^{2} \\hat{a}^{\\dagger}}{2} + i \\omega t \\hat{a}^{\\dagger} + \\hat{a}^{\\dagger}$"
          },
          "metadata": {},
          "execution_count": 18
        }
      ]
    },
    {
      "cell_type": "code",
      "source": [
        "BCH_A_1 = collect_all(BCH_A,l_3)\n",
        "BCH_A_1"
      ],
      "metadata": {
        "colab": {
          "base_uri": "https://localhost:8080/",
          "height": 58
        },
        "id": "o1SwG1l0Nd88",
        "outputId": "a4c3276e-9302-406b-9097-be0574792f83"
      },
      "execution_count": null,
      "outputs": [
        {
          "output_type": "execute_result",
          "data": {
            "text/plain": [
              "⎛          7  7         6  6           5  5         4  4           3  3         2  2               ↪\n",
              "⎜  ⅈ⋅\\omega ⋅t    \\omega ⋅t    ⅈ⋅\\omega ⋅t    \\omega ⋅t    ⅈ⋅\\omega ⋅t    \\omega ⋅t                ↪\n",
              "⎜- ──────────── - ────────── + ──────────── + ────────── - ──────────── - ────────── + ⅈ⋅\\omega⋅t  ↪\n",
              "⎝      5040          720           120            24            6             2                    ↪\n",
              "\n",
              "↪    ⎞                   \n",
              "↪    ⎟                   \n",
              "↪ + 1⎟⋅\\hat{a}__{\\dagger}\n",
              "↪    ⎠                   "
            ],
            "text/latex": "$\\displaystyle \\left(- \\frac{i \\omega^{7} t^{7}}{5040} - \\frac{\\omega^{6} t^{6}}{720} + \\frac{i \\omega^{5} t^{5}}{120} + \\frac{\\omega^{4} t^{4}}{24} - \\frac{i \\omega^{3} t^{3}}{6} - \\frac{\\omega^{2} t^{2}}{2} + i \\omega t + 1\\right) \\hat{a}^{\\dagger}$"
          },
          "metadata": {},
          "execution_count": 19
        }
      ]
    },
    {
      "cell_type": "code",
      "source": [
        "BCH_A_2 = collect_and_save_all(BCH_A,l_3)\n",
        "BCH_A_2"
      ],
      "metadata": {
        "colab": {
          "base_uri": "https://localhost:8080/",
          "height": 58
        },
        "id": "K7ilLSmSNpd3",
        "outputId": "7a8c08f3-9aa8-497a-f9ae-9e918d12fb61"
      },
      "execution_count": null,
      "outputs": [
        {
          "output_type": "execute_result",
          "data": {
            "text/plain": [
              "⎡             7  7         6  6           5  5         4  4           3  3         2  2            ↪\n",
              "⎢     ⅈ⋅\\omega ⋅t    \\omega ⋅t    ⅈ⋅\\omega ⋅t    \\omega ⋅t    ⅈ⋅\\omega ⋅t    \\omega ⋅t             ↪\n",
              "⎢0, - ──────────── - ────────── + ──────────── + ────────── - ──────────── - ────────── + ⅈ⋅\\omega ↪\n",
              "⎣         5040          720           120            24            6             2                 ↪\n",
              "\n",
              "↪       ⎤\n",
              "↪       ⎥\n",
              "↪ ⋅t + 1⎥\n",
              "↪       ⎦"
            ],
            "text/latex": "$\\displaystyle \\left[ 0, \\  - \\frac{i \\omega^{7} t^{7}}{5040} - \\frac{\\omega^{6} t^{6}}{720} + \\frac{i \\omega^{5} t^{5}}{120} + \\frac{\\omega^{4} t^{4}}{24} - \\frac{i \\omega^{3} t^{3}}{6} - \\frac{\\omega^{2} t^{2}}{2} + i \\omega t + 1\\right]$"
          },
          "metadata": {},
          "execution_count": 20
        }
      ]
    },
    {
      "cell_type": "code",
      "source": [
        "BCH_A_3 = compare_all(BCH_A_2,l_3,7)\n",
        "BCH_A_3"
      ],
      "metadata": {
        "id": "EKVhj1nWNsqN",
        "outputId": "4bc11a83-67bc-44dd-8c8a-a56b9e19af43",
        "colab": {
          "base_uri": "https://localhost:8080/",
          "height": 58
        }
      },
      "execution_count": null,
      "outputs": [
        {
          "output_type": "execute_result",
          "data": {
            "text/plain": [
              "⎡             7  7         6  6           5  5         4  4           3  3         2  2            ↪\n",
              "⎢     ⅈ⋅\\omega ⋅t    \\omega ⋅t    ⅈ⋅\\omega ⋅t    \\omega ⋅t    ⅈ⋅\\omega ⋅t    \\omega ⋅t             ↪\n",
              "⎢0, - ──────────── - ────────── + ──────────── + ────────── - ──────────── - ────────── + ⅈ⋅\\omega ↪\n",
              "⎣         5040          720           120            24            6             2                 ↪\n",
              "\n",
              "↪       ⎤\n",
              "↪       ⎥\n",
              "↪ ⋅t + 1⎥\n",
              "↪       ⎦"
            ],
            "text/latex": "$\\displaystyle \\left[ 0, \\  - \\frac{i \\omega^{7} t^{7}}{5040} - \\frac{\\omega^{6} t^{6}}{720} + \\frac{i \\omega^{5} t^{5}}{120} + \\frac{\\omega^{4} t^{4}}{24} - \\frac{i \\omega^{3} t^{3}}{6} - \\frac{\\omega^{2} t^{2}}{2} + i \\omega t + 1\\right]$"
          },
          "metadata": {},
          "execution_count": 21
        }
      ]
    },
    {
      "cell_type": "code",
      "source": [
        "Latex(series(exp(-I*omega*t),t,0,8).removeO())"
      ],
      "metadata": {
        "colab": {
          "base_uri": "https://localhost:8080/"
        },
        "id": "0Vt1LY05pqv7",
        "outputId": "4d03f302-258f-4c47-ca05-7ff3d637b3f9"
      },
      "execution_count": null,
      "outputs": [
        {
          "output_type": "stream",
          "name": "stdout",
          "text": [
            "\\frac{i \\omega^{7} t^{7}}{5040} - \\frac{\\omega^{6} t^{6}}{720} - \\frac{i \\omega^{5} t^{5}}{120} + \\frac{\\omega^{4} t^{4}}{24} + \\frac{i \\omega^{3} t^{3}}{6} - \\frac{\\omega^{2} t^{2}}{2} - i \\omega t + 1\n"
          ]
        }
      ]
    },
    {
      "cell_type": "markdown",
      "source": [
        "\n",
        "$\n",
        "\\frac{i \\omega^{7} t^{7}}{5040} - \\frac{\\omega^{6} t^{6}}{720} - \\frac{i \\omega^{5} t^{5}}{120} + \\frac{\\omega^{4} t^{4}}{24} + \\frac{i \\omega^{3} t^{3}}{6} - \\frac{\\omega^{2} t^{2}}{2} - i \\omega t + 1\n",
        "$\n"
      ],
      "metadata": {
        "id": "Pex6c1_ar6Uk"
      }
    }
  ]
}