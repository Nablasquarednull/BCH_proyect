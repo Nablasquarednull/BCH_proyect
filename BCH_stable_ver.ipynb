{
  "nbformat": 4,
  "nbformat_minor": 0,
  "metadata": {
    "colab": {
      "provenance": [],
      "include_colab_link": true
    },
    "kernelspec": {
      "name": "python3",
      "display_name": "Python 3"
    },
    "language_info": {
      "name": "python"
    }
  },
  "cells": [
    {
      "cell_type": "markdown",
      "metadata": {
        "id": "view-in-github",
        "colab_type": "text"
      },
      "source": [
        "<a href=\"https://colab.research.google.com/github/Nablasquarednull/BCH_proyect/blob/main/BCH_stable_ver.ipynb\" target=\"_parent\"><img src=\"https://colab.research.google.com/assets/colab-badge.svg\" alt=\"Open In Colab\"/></a>"
      ]
    },
    {
      "cell_type": "code",
      "execution_count": 47,
      "metadata": {
        "id": "zughhuU0wrGX"
      },
      "outputs": [],
      "source": [
        "from operator import indexOf\n",
        "import sympy\n",
        "from sympy import symbols\n",
        "from sympy.plotting import plot\n",
        "sympy.init_printing()\n",
        "from sympy import*\n",
        "from sympy.physics.quantum import *\n",
        "from sympy.physics.quantum import Operator, Commutator, AntiCommutator\n",
        "from sympy.physics.quantum import Dagger, Commutator\n",
        "from sympy.physics.quantum.boson import BosonOp\n",
        "from math import ceil\n",
        "from sympy.printing.latex import LatexPrinter, print_latex\n",
        "#-----------------------------\n",
        "#-----------------------------\n",
        "\n",
        "def collect_coeff(expresion,A): #factoriza el operador A de una expresión \"expresion\"\n",
        "  vt = 0\n",
        "  for k in range(len(expand(expresion).args)):\n",
        "    if (expand(expresion).args[k]).coeff(A)!=0:\n",
        "      vt+= (expand(expresion).args[k].coeff(A))\n",
        "  return (vt)*A\n",
        "#--------------------------------------\n",
        "def collect_coeff2(expresion,A): #factoriza el operador A de una expresión \"expresion\" NOTA AL DR. RAMOS: MODIFIQUÉ LA EXPRESIÓN FINAL: AHORA REGRESA (vt), antes regresaba (vt)*A\n",
        "  vt = 0\n",
        "  for k in range(len(expand(expresion).args)):\n",
        "    if (expand(expresion).args[k]).coeff(A)!=0:\n",
        "      vt+= (expand(expresion).args[k].coeff(A))\n",
        "  return (vt)\n",
        "#-----------------------------\n",
        "def conmutador(A,B):\n",
        "  return Commutator(A,B).expand(commutator=True).expand(commutator=True).subs(commutator_subs)\n",
        "#-----------------------------\n",
        "def com_order(A,B,n): #regresa el conmutador anidado [A,[A,..[A,B]] n veces.\n",
        "    if n<=1:\n",
        "        return conmutador(A,B)\n",
        "\n",
        "    else:\n",
        "        return com_order(A,conmutador(A,B),n-1)\n",
        "#-----------------------------\n",
        "class MyLatexPrinter(LatexPrinter):\n",
        "    \"\"\"Print derivative of a function of symbols in a shorter form.\n",
        "    \"\"\"\n",
        "    def _print_Derivative(self, expr):\n",
        "        function, *vars = expr.args\n",
        "        if not isinstance(type(function), UndefinedFunction) or \\\n",
        "           not all(isinstance(i, Symbol) for i in vars):\n",
        "            return super()._print_Derivative(expr)\n",
        "\n",
        "        # If you want the printer to work correctly for nested\n",
        "        # expressions then use self._print() instead of str() or latex().\n",
        "        # See the example of nested modulo below in the custom printing\n",
        "        # method section.\n",
        "        return \"{}_{{{}}}\".format(\n",
        "            self.print(Symbol(function.func.name_)),\n",
        "                        ''.join(self._print(i) for i in vars))\n",
        "\n",
        "\n",
        "def Latex(expr):\n",
        "    \"\"\" Most of the printers define their own wrappers for print().\n",
        "    These wrappers usually take printer settings. Our printer does not have\n",
        "    any settings.\n",
        "    \"\"\"\n",
        "    print(MyLatexPrinter().doprint(expr))\n",
        "#------------------------------\n",
        "def BCH(A, B, alpha, n): # Baker_Campbell_Hausdorff formula\n",
        "    a=0\n",
        "    for i in range(1,n+1):\n",
        "        a += (alpha**i/factorial(i))*com_order(A,B,i)\n",
        "    return (B + a)\n",
        "#-------------------------------\n",
        "def collect_all(expression,operator_list): # itera \"len(operator list)\" veces la función \"collect_coef\" y suma todas sus iteraciones.\n",
        "  a=0\n",
        "  for i in range(len(operator_list)):\n",
        "    a += collect_coeff(expression,operator_list[i])\n",
        "  return a\n",
        "#-------------------------------\n",
        "def collect_and_save_all(expression,operator_list):\n",
        "  coeff_list=[] #lista donde vamos a meter los coeficientes de cada operador\n",
        "  for z in range(len(operator_list)): #iterador para cada operador\n",
        "    a = collect_coeff2(expression,operator_list[z])\n",
        "    coeff_list.append(a)\n",
        "  return coeff_list\n",
        "#-------------------------------\n",
        "def compare_all(coeff_list,operator_list,n): #compara los coeficientes y los reemplaza.\n",
        "  list_1= coeff_list.copy()\n",
        "  functions = [cos, sin , exp] #lista de funciones para comparar\n",
        "  for z in range(len(operator_list)):\n",
        "    for i in functions: #iterador para cada funcion\n",
        "      if coeff_list[z] == series(i(omega*t),omega*t,0,n).removeO(): #funciones en 'functions' positivas\n",
        "        list_1[z] = i(omega*t)\n",
        "        break\n",
        "      elif coeff_list[z] == series(-i(omega*t),omega*t,0,n).removeO():# funciones en 'functions' negativas\n",
        "        list_1[z] = -i(omega*t)\n",
        "        break\n",
        "      elif coeff_list[z] == fraction(series(i(omega*t)/omega,omega,0,n).removeO())[0]: #funciones en 'functions' cardinales positivas\n",
        "        list_1[z] = i(omega*t)/omega\n",
        "        break\n",
        "      elif coeff_list[z] == fraction(series(-i(omega*t)/omega,omega,0,n).removeO())[0]:#funciones en 'functions' cardinales negativas\n",
        "        list_1[z] = -i(omega*t)/omega\n",
        "        break\n",
        "      elif coeff_list[z] == series(i(omega*t)*omega,omega,0,n).removeO(): #funciones en 'functions' cardinales positivas\n",
        "        list_1[z] = i(omega*t)*omega\n",
        "        break\n",
        "      elif coeff_list[z] == series(-i(omega*t)*omega,omega,0,n).removeO():#funciones en 'functions' cardinales negativas\n",
        "        list_1[z] = -i(omega*t)*omega\n",
        "        break\n",
        "      elif coeff_list[z] == series(i(omega*t)*omega,omega,0,n+1).removeO(): #funciones en 'functions' cardinales positivas\n",
        "        list_1[z] = i(omega*t)*omega\n",
        "        break\n",
        "      elif coeff_list[z] == series(-i(omega*t)*omega,omega,0,n+1).removeO():#funciones en 'functions' cardinales negativas\n",
        "        list_1[z] = -i(omega*t)*omega\n",
        "        break\n",
        "      elif coeff_list[z] == series(i(omega*t)*omega,omega,0,n+2).removeO(): #funciones en 'functions' cardinales positivas\n",
        "        list_1[z] = i(omega*t)*omega\n",
        "        break\n",
        "      elif coeff_list[z] == series(-i(omega*t)*omega,omega,0,n+2).removeO():#funciones en 'functions' cardinales negativas\n",
        "        list_1[z] = -i(omega*t)*omega\n",
        "        break\n",
        "  return list_1\n",
        "\n",
        "#-------------------------------\n",
        "def sum_collect(coef_list,operator_list):\n",
        "  a=0\n",
        "  for i in range(len(operator_list)):\n",
        "    a += coef_list[i]*(operator_list[i])\n",
        "  return a\n",
        "#-------------------------------\n",
        "def extract_operator_and_coeff(expression):\n",
        "    \"\"\"\n",
        "    Extracts the operator and coefficient from an expression of the form exp(coeff * operator).\n",
        "\n",
        "    Args:\n",
        "    expression: The expression to extract from.\n",
        "\n",
        "    Returns:\n",
        "    A tuple containing the operator and the coefficient.\n",
        "    \"\"\"\n",
        "    # Get the argument of the exponential function\n",
        "    arg = expression.args[0]\n",
        "\n",
        "    # If the argument is a multiplication, extract the operator and coefficient\n",
        "    if arg.is_Mul:\n",
        "        operator = arg.args[-1]  # Assume the operator is the last argument\n",
        "        coeff = arg / operator   # Get the coefficient\n",
        "    else:\n",
        "        operator = arg\n",
        "        coeff = 1\n",
        "\n",
        "    return operator, coeff\n",
        "    #-------------------------------\n",
        "def time_dep_exp(BCH,transformation):\n",
        "  return BCH -I*Dagger(transformation)*transformation.diff(t)\n",
        "\n",
        "#----------------------------------------------------------\n",
        "#Symbols\n",
        "omega = symbols(r'\\omega', real = True)\n",
        "alpha = symbols(r'\\alpha')\n",
        "t     = symbols(r't', real = True)\n",
        "#Operators\n",
        "x     = Operator(r'\\hat{x}')\n",
        "p     = Operator(r'\\hat{p}')\n",
        "H     = (p**2+omega**2*x**2)/(2)\n",
        "\n",
        "l =[x,p]\n",
        "\n",
        "H_2 = sigmaz + sigmap + sigmam\n",
        "l_2 = [sigmaz,sigmap,sigmam]\n",
        "sigmap = Operator(r'\\hat{\\sigma}_+')\n",
        "sigmam = Operator(r'\\hat{\\sigma}_-')\n",
        "sigmaz = Operator(r'\\hat{\\sigma}_z')\n",
        "\n",
        "a_dag = Operator(r'\\hat{a}^{\\dagger}')\n",
        "a = Operator(r'\\hat{a}')\n",
        "H_3 = omega*(a_dag*a+1/2)\n",
        "l_3 = [a,a_dag]\n",
        "#Functions\n",
        "\n",
        "rho = Function(r'\\rho')(t)\n",
        "prueba = exp((I*rho.diff(t)/(2*rho))*x**2)\n",
        "\n",
        "\n",
        "\n",
        "\n",
        "#---------------------------------------\n",
        "\n",
        "#---------------------------------------\n",
        "commutator_subs = {\n",
        "    Commutator(x, p): I,\n",
        "    Commutator(p, x): -I,\n",
        "    Commutator(p, p): 0,\n",
        "    Commutator(x, x): 0,\n",
        "\n",
        "    Commutator(a, a_dag): 1,\n",
        "    Commutator(a_dag, a): -1,\n",
        "    Commutator(a_dag, a_dag): 0,\n",
        "    Commutator(a, a): 0,\n",
        "\n",
        "    Commutator(sigmap, sigmam): sigmaz,\n",
        "    Commutator(sigmam, sigmap): -sigmaz,\n",
        "\n",
        "    Commutator(sigmaz, sigmap): 2 * sigmap,\n",
        "    Commutator(sigmap, sigmaz): -2 * sigmap,\n",
        "    Commutator(sigmam, sigmaz): 2 * sigmam,\n",
        "    Commutator(sigmaz, sigmam): -2 * sigmam,\n",
        "\n",
        "    Commutator(sigmap, sigmap): 0,\n",
        "    Commutator(sigmam, sigmam): 0,\n",
        "    Commutator(sigmaz, sigmaz): 0,\n",
        "}\n"
      ]
    },
    {
      "cell_type": "code",
      "source": [
        "expand(time_dep_exp(BCH(H,x,alpha,9),prueba))"
      ],
      "metadata": {
        "colab": {
          "base_uri": "https://localhost:8080/",
          "height": 138
        },
        "id": "VBjTevgCM0l-",
        "outputId": "b3727d76-abb9-4e8c-f71d-50ccbeeae813"
      },
      "execution_count": 50,
      "outputs": [
        {
          "output_type": "execute_result",
          "data": {
            "text/plain": [
              "                                                                                                   ↪\n",
              "                                                                                                   ↪\n",
              "                                                                                                   ↪\n",
              "                                                                                                   ↪\n",
              "                                                                                                   ↪\n",
              "                                                                                                   ↪\n",
              "                                                                                                   ↪\n",
              "                                                                                                   ↪\n",
              "          9       4                 8       4                   7       3                 6        ↪\n",
              "  ⅈ⋅\\alpha ⋅\\omega ⋅\\hat{p}   \\alpha ⋅\\omega ⋅\\hat{x}   ⅈ⋅\\alpha ⋅\\omega ⋅\\hat{p}   \\alpha ⋅\\omega ↪\n",
              "- ───────────────────────── + ─────────────────────── - ───────────────────────── + ────────────── ↪\n",
              "           362880                      40320                      5040                        720  ↪\n",
              "                                                                                                   ↪\n",
              "\n",
              "↪                                                                                                  ↪\n",
              "↪                                                                                                  ↪\n",
              "↪                                                                                                  ↪\n",
              "↪                                                                                                  ↪\n",
              "↪                                                                                                  ↪\n",
              "↪                                                                                                  ↪\n",
              "↪                                                                                                  ↪\n",
              "↪                                                                                                  ↪\n",
              "↪ 3                   5       2                 4       2                   3                      ↪\n",
              "↪  ⋅\\hat{x}   ⅈ⋅\\alpha ⋅\\omega ⋅\\hat{p}   \\alpha ⋅\\omega ⋅\\hat{x}   ⅈ⋅\\alpha ⋅\\omega⋅\\hat{p}   \\al ↪\n",
              "↪ ───────── - ───────────────────────── + ─────────────────────── - ──────────────────────── + ─── ↪\n",
              "↪                        120                        24                         6                   ↪\n",
              "↪                                                                                                  ↪\n",
              "\n",
              "↪                                                                                  †           2   ↪\n",
              "↪                                                                     ⎛d          ⎞  ⎛       †⎞    ↪\n",
              "↪                                                                  -ⅈ⋅⎜──(\\rho(t))⎟ ⋅⎝\\hat{x} ⎠    ↪\n",
              "↪                                                                     ⎝dt         ⎠                ↪\n",
              "↪                                                                  ──────────────────────────────  ↪\n",
              "↪                                                     2                            †               ↪\n",
              "↪                                                    d                       2⋅\\rho (t)            ↪\n",
              "↪                                                    ───(\\rho(t))⋅ℯ                              ⋅ ↪\n",
              "↪    2                                                 2                                           ↪\n",
              "↪ pha ⋅\\omega⋅\\hat{x}                                dt                                            ↪\n",
              "↪ ─────────────────── - ⅈ⋅\\alpha⋅\\hat{p} + \\hat{x} + ───────────────────────────────────────────── ↪\n",
              "↪        2                                                                             2⋅\\rho(t)   ↪\n",
              "↪                                                                                                  ↪\n",
              "\n",
              "↪                                                                                                  ↪\n",
              "↪                                                                    †           2                 ↪\n",
              "↪    d                  2                               ⎛d          ⎞  ⎛       †⎞                  ↪\n",
              "↪  ⅈ⋅──(\\rho(t))⋅\\hat{x}                             -ⅈ⋅⎜──(\\rho(t))⎟ ⋅⎝\\hat{x} ⎠      d           ↪\n",
              "↪    dt                                                 ⎝dt         ⎠                ⅈ⋅──(\\rho(t)) ↪\n",
              "↪  ──────────────────────                            ──────────────────────────────    dt          ↪\n",
              "↪        2⋅\\rho(t)               2                2                  †               ───────────── ↪\n",
              "↪ ℯ                      ⋅\\hat{x}    ⎛d          ⎞             2⋅\\rho (t)                  2⋅\\rho( ↪\n",
              "↪                                    ⎜──(\\rho(t))⎟ ⋅ℯ                              ⋅ℯ              ↪\n",
              "↪                                    ⎝dt         ⎠                                                 ↪\n",
              "↪ ──────────────────────────────── - ───────────────────────────────────────────────────────────── ↪\n",
              "↪                                                                            2                     ↪\n",
              "↪                                                                      2⋅\\rho (t)                  ↪\n",
              "\n",
              "↪                   \n",
              "↪                   \n",
              "↪                   \n",
              "↪         2         \n",
              "↪ ⋅\\hat{x}          \n",
              "↪                   \n",
              "↪ ─────────         \n",
              "↪ t)               2\n",
              "↪          ⋅\\hat{x} \n",
              "↪                   \n",
              "↪ ──────────────────\n",
              "↪                   \n",
              "↪                   "
            ],
            "text/latex": "$\\displaystyle - \\frac{i \\alpha^{9} \\omega^{4} \\hat{p}}{362880} + \\frac{\\alpha^{8} \\omega^{4} \\hat{x}}{40320} - \\frac{i \\alpha^{7} \\omega^{3} \\hat{p}}{5040} + \\frac{\\alpha^{6} \\omega^{3} \\hat{x}}{720} - \\frac{i \\alpha^{5} \\omega^{2} \\hat{p}}{120} + \\frac{\\alpha^{4} \\omega^{2} \\hat{x}}{24} - \\frac{i \\alpha^{3} \\omega \\hat{p}}{6} + \\frac{\\alpha^{2} \\omega \\hat{x}}{2} - i \\alpha \\hat{p} + \\hat{x} + \\frac{\\frac{d^{2}}{d t^{2}} \\rho{\\left(t \\right)} e^{- \\frac{i \\frac{d}{d t} \\rho{\\left(t \\right)}^{\\dagger} \\left(\\hat{x}^{\\dagger}\\right)^{2}}{2 \\rho{\\left(t \\right)}^{\\dagger}}} e^{\\frac{i \\frac{d}{d t} \\rho{\\left(t \\right)} \\hat{x}^{2}}{2 \\rho{\\left(t \\right)}}} \\hat{x}^{2}}{2 \\rho{\\left(t \\right)}} - \\frac{\\left(\\frac{d}{d t} \\rho{\\left(t \\right)}\\right)^{2} e^{- \\frac{i \\frac{d}{d t} \\rho{\\left(t \\right)}^{\\dagger} \\left(\\hat{x}^{\\dagger}\\right)^{2}}{2 \\rho{\\left(t \\right)}^{\\dagger}}} e^{\\frac{i \\frac{d}{d t} \\rho{\\left(t \\right)} \\hat{x}^{2}}{2 \\rho{\\left(t \\right)}}} \\hat{x}^{2}}{2 \\rho^{2}{\\left(t \\right)}}$"
          },
          "metadata": {},
          "execution_count": 50
        }
      ]
    },
    {
      "cell_type": "code",
      "source": [
        "BCH_X = BCH(H,x,alpha,9).subs({alpha:I*t})\n",
        "BCH_X"
      ],
      "metadata": {
        "id": "NPk7JPlz2YxJ",
        "colab": {
          "base_uri": "https://localhost:8080/",
          "height": 54
        },
        "outputId": "a6de97ad-e180-44df-f45a-7ed7cf3a2966"
      },
      "execution_count": 24,
      "outputs": [
        {
          "output_type": "execute_result",
          "data": {
            "text/plain": [
              "      8  9                 8  8                 6  7                 6  6                 4  5     ↪\n",
              "\\omega ⋅t ⋅\\hat{p}   \\omega ⋅t ⋅\\hat{x}   \\omega ⋅t ⋅\\hat{p}   \\omega ⋅t ⋅\\hat{x}   \\omega ⋅t ⋅\\ha ↪\n",
              "────────────────── + ────────────────── - ────────────────── - ────────────────── + ────────────── ↪\n",
              "      362880               40320                 5040                 720                  120     ↪\n",
              "\n",
              "↪              4  4                 2  3                 2  2                              \n",
              "↪ t{p}   \\omega ⋅t ⋅\\hat{x}   \\omega ⋅t ⋅\\hat{p}   \\omega ⋅t ⋅\\hat{x}                      \n",
              "↪ ──── + ────────────────── - ────────────────── - ────────────────── + t⋅\\hat{p} + \\hat{x}\n",
              "↪                24                   6                    2                               "
            ],
            "text/latex": "$\\displaystyle \\frac{\\omega^{8} t^{9} \\hat{p}}{362880} + \\frac{\\omega^{8} t^{8} \\hat{x}}{40320} - \\frac{\\omega^{6} t^{7} \\hat{p}}{5040} - \\frac{\\omega^{6} t^{6} \\hat{x}}{720} + \\frac{\\omega^{4} t^{5} \\hat{p}}{120} + \\frac{\\omega^{4} t^{4} \\hat{x}}{24} - \\frac{\\omega^{2} t^{3} \\hat{p}}{6} - \\frac{\\omega^{2} t^{2} \\hat{x}}{2} + t \\hat{p} + \\hat{x}$"
          },
          "metadata": {},
          "execution_count": 24
        }
      ]
    },
    {
      "cell_type": "code",
      "source": [
        "BCH_X_1 = collect_all(BCH_X,l)\n",
        "BCH_X_1"
      ],
      "metadata": {
        "colab": {
          "base_uri": "https://localhost:8080/",
          "height": 58
        },
        "id": "dhC4qzRBjlGw",
        "outputId": "ee1afb65-4215-48a5-db21-0a76b3230540"
      },
      "execution_count": 25,
      "outputs": [
        {
          "output_type": "execute_result",
          "data": {
            "text/plain": [
              "⎛      8  8         6  6         4  4         2  2    ⎞           ⎛      8  9         6  7         ↪\n",
              "⎜\\omega ⋅t    \\omega ⋅t    \\omega ⋅t    \\omega ⋅t     ⎟           ⎜\\omega ⋅t    \\omega ⋅t    \\omeg ↪\n",
              "⎜────────── - ────────── + ────────── - ────────── + 1⎟⋅\\hat{x} + ⎜────────── - ────────── + ───── ↪\n",
              "⎝  40320         720           24           2         ⎠           ⎝  362880        5040         12 ↪\n",
              "\n",
              "↪  4  5         2  3    ⎞        \n",
              "↪ a ⋅t    \\omega ⋅t     ⎟        \n",
              "↪ ───── - ────────── + t⎟⋅\\hat{p}\n",
              "↪ 0           6         ⎠        "
            ],
            "text/latex": "$\\displaystyle \\left(\\frac{\\omega^{8} t^{8}}{40320} - \\frac{\\omega^{6} t^{6}}{720} + \\frac{\\omega^{4} t^{4}}{24} - \\frac{\\omega^{2} t^{2}}{2} + 1\\right) \\hat{x} + \\left(\\frac{\\omega^{8} t^{9}}{362880} - \\frac{\\omega^{6} t^{7}}{5040} + \\frac{\\omega^{4} t^{5}}{120} - \\frac{\\omega^{2} t^{3}}{6} + t\\right) \\hat{p}$"
          },
          "metadata": {},
          "execution_count": 25
        }
      ]
    },
    {
      "cell_type": "code",
      "source": [
        "BCH_X_2 = collect_and_save_all(BCH_X,l)\n",
        "BCH_X_2"
      ],
      "metadata": {
        "colab": {
          "base_uri": "https://localhost:8080/",
          "height": 58
        },
        "id": "qy6DTfM_j3MQ",
        "outputId": "8239d5d3-17fe-4782-e2ad-0424417da183"
      },
      "execution_count": 27,
      "outputs": [
        {
          "output_type": "execute_result",
          "data": {
            "text/plain": [
              "⎡      8  8         6  6         4  4         2  2            8  9         6  7         4  5       ↪\n",
              "⎢\\omega ⋅t    \\omega ⋅t    \\omega ⋅t    \\omega ⋅t       \\omega ⋅t    \\omega ⋅t    \\omega ⋅t    \\om ↪\n",
              "⎢────────── - ────────── + ────────── - ────────── + 1, ────────── - ────────── + ────────── - ─── ↪\n",
              "⎣  40320         720           24           2             362880        5040         120           ↪\n",
              "\n",
              "↪    2  3    ⎤\n",
              "↪ ega ⋅t     ⎥\n",
              "↪ ─────── + t⎥\n",
              "↪  6         ⎦"
            ],
            "text/latex": "$\\displaystyle \\left[ \\frac{\\omega^{8} t^{8}}{40320} - \\frac{\\omega^{6} t^{6}}{720} + \\frac{\\omega^{4} t^{4}}{24} - \\frac{\\omega^{2} t^{2}}{2} + 1, \\  \\frac{\\omega^{8} t^{9}}{362880} - \\frac{\\omega^{6} t^{7}}{5040} + \\frac{\\omega^{4} t^{5}}{120} - \\frac{\\omega^{2} t^{3}}{6} + t\\right]$"
          },
          "metadata": {},
          "execution_count": 27
        }
      ]
    },
    {
      "cell_type": "code",
      "source": [
        "BCH_X_3 = compare_all(BCH_X_2,l,9)\n",
        "BCH_X_3"
      ],
      "metadata": {
        "colab": {
          "base_uri": "https://localhost:8080/",
          "height": 58
        },
        "id": "NQ1Hlhthkr7q",
        "outputId": "f24b2f5e-302d-4bb9-cdf2-339fa8dd4087"
      },
      "execution_count": 28,
      "outputs": [
        {
          "output_type": "execute_result",
          "data": {
            "text/plain": [
              "⎡               sin(\\omega⋅t)⎤\n",
              "⎢cos(\\omega⋅t), ─────────────⎥\n",
              "⎣                  \\omega    ⎦"
            ],
            "text/latex": "$\\displaystyle \\left[ \\cos{\\left(\\omega t \\right)}, \\  \\frac{\\sin{\\left(\\omega t \\right)}}{\\omega}\\right]$"
          },
          "metadata": {},
          "execution_count": 28
        }
      ]
    },
    {
      "cell_type": "code",
      "source": [
        "BCH_X_4 = sum_collect(BCH_X_3,l)\n",
        "BCH_X_4"
      ],
      "metadata": {
        "colab": {
          "base_uri": "https://localhost:8080/",
          "height": 53
        },
        "id": "KhJi1A2AlL_C",
        "outputId": "679bda16-8d79-4b72-84b3-654fd50ade1f"
      },
      "execution_count": 9,
      "outputs": [
        {
          "output_type": "execute_result",
          "data": {
            "text/plain": [
              "                        sin(\\omega⋅t)⋅\\hat{p}\n",
              "cos(\\omega⋅t)⋅\\hat{x} + ─────────────────────\n",
              "                               \\omega        "
            ],
            "text/latex": "$\\displaystyle \\cos{\\left(\\omega t \\right)} \\hat{x} + \\frac{\\sin{\\left(\\omega t \\right)} \\hat{p}}{\\omega}$"
          },
          "metadata": {},
          "execution_count": 9
        }
      ]
    },
    {
      "cell_type": "code",
      "source": [
        "BCH_P = BCH(H,p,alpha,3).subs({alpha:I*t})\n",
        "BCH_P"
      ],
      "metadata": {
        "colab": {
          "base_uri": "https://localhost:8080/",
          "height": 54
        },
        "id": "CE1vnqYHmJRA",
        "outputId": "07cad7e9-75bd-4d0d-f339-1719d795eb1a"
      },
      "execution_count": 10,
      "outputs": [
        {
          "output_type": "execute_result",
          "data": {
            "text/plain": [
              "      4  3                 2  2                                      \n",
              "\\omega ⋅t ⋅\\hat{x}   \\omega ⋅t ⋅\\hat{p}         2                    \n",
              "────────────────── - ────────────────── - \\omega ⋅t⋅\\hat{x} + \\hat{p}\n",
              "        6                    2                                       "
            ],
            "text/latex": "$\\displaystyle \\frac{\\omega^{4} t^{3} \\hat{x}}{6} - \\frac{\\omega^{2} t^{2} \\hat{p}}{2} - \\omega^{2} t \\hat{x} + \\hat{p}$"
          },
          "metadata": {},
          "execution_count": 10
        }
      ]
    },
    {
      "cell_type": "code",
      "source": [
        "BCH_P_1 = collect_all(BCH_P,l)\n",
        "BCH_P_1"
      ],
      "metadata": {
        "colab": {
          "base_uri": "https://localhost:8080/",
          "height": 58
        },
        "id": "ewD9P4umnPHo",
        "outputId": "2bcda35e-750e-45a7-a630-90688dfa76a9"
      },
      "execution_count": null,
      "outputs": [
        {
          "output_type": "execute_result",
          "data": {
            "text/plain": [
              "⎛        2  2    ⎞           ⎛      4  3            ⎞        \n",
              "⎜  \\omega ⋅t     ⎟           ⎜\\omega ⋅t          2  ⎟        \n",
              "⎜- ────────── + 1⎟⋅\\hat{p} + ⎜────────── - \\omega ⋅t⎟⋅\\hat{x}\n",
              "⎝      2         ⎠           ⎝    6                 ⎠        "
            ],
            "text/latex": "$\\displaystyle \\left(- \\frac{\\omega^{2} t^{2}}{2} + 1\\right) \\hat{p} + \\left(\\frac{\\omega^{4} t^{3}}{6} - \\omega^{2} t\\right) \\hat{x}$"
          },
          "metadata": {},
          "execution_count": 33
        }
      ]
    },
    {
      "cell_type": "code",
      "source": [
        "BCH_P_2 = collect_and_save_all(BCH_P,l)\n",
        "BCH_P_2"
      ],
      "metadata": {
        "colab": {
          "base_uri": "https://localhost:8080/",
          "height": 58
        },
        "id": "BIMWK5xfnTUl",
        "outputId": "489939d4-ec19-452b-929a-67af376d14db"
      },
      "execution_count": null,
      "outputs": [
        {
          "output_type": "execute_result",
          "data": {
            "text/plain": [
              "⎡      4  3                      2  2    ⎤\n",
              "⎢\\omega ⋅t          2      \\omega ⋅t     ⎥\n",
              "⎢────────── - \\omega ⋅t, - ────────── + 1⎥\n",
              "⎣    6                         2         ⎦"
            ],
            "text/latex": "$\\displaystyle \\left[ \\frac{\\omega^{4} t^{3}}{6} - \\omega^{2} t, \\  - \\frac{\\omega^{2} t^{2}}{2} + 1\\right]$"
          },
          "metadata": {},
          "execution_count": 34
        }
      ]
    },
    {
      "cell_type": "code",
      "source": [
        "BCH_P_3 = compare_all(BCH_P_2,l,3)\n",
        "BCH_P_3"
      ],
      "metadata": {
        "colab": {
          "base_uri": "https://localhost:8080/",
          "height": 38
        },
        "id": "VJtr-DCznWl4",
        "outputId": "a142e195-7447-4e47-9ee1-888a1c871f73"
      },
      "execution_count": null,
      "outputs": [
        {
          "output_type": "execute_result",
          "data": {
            "text/plain": [
              "[-\\omega⋅sin(\\omega⋅t), cos(\\omega⋅t)]"
            ],
            "text/latex": "$\\displaystyle \\left[ - \\omega \\sin{\\left(\\omega t \\right)}, \\  \\cos{\\left(\\omega t \\right)}\\right]$"
          },
          "metadata": {},
          "execution_count": 35
        }
      ]
    },
    {
      "cell_type": "code",
      "source": [
        "BCH_P_4 = sum_collect(BCH_P_3,l)\n",
        "BCH_P_4"
      ],
      "metadata": {
        "id": "jWn7PQQZnmfG",
        "outputId": "dc950020-5dc4-4cda-a37c-8636d7ebb51f",
        "colab": {
          "base_uri": "https://localhost:8080/",
          "height": 38
        }
      },
      "execution_count": null,
      "outputs": [
        {
          "output_type": "execute_result",
          "data": {
            "text/plain": [
              "-\\omega⋅sin(\\omega⋅t)⋅\\hat{x} + cos(\\omega⋅t)⋅\\hat{p}"
            ],
            "text/latex": "$\\displaystyle - \\omega \\sin{\\left(\\omega t \\right)} \\hat{x} + \\cos{\\left(\\omega t \\right)} \\hat{p}$"
          },
          "metadata": {},
          "execution_count": 36
        }
      ]
    },
    {
      "cell_type": "code",
      "source": [
        "BCH_sigma = BCH(H_2,sigmaz,alpha,7).subs({alpha:I*t})\n",
        "BCH_sigma"
      ],
      "metadata": {
        "colab": {
          "base_uri": "https://localhost:8080/",
          "height": 91
        },
        "id": "jPaIPcC6R7T-",
        "outputId": "9fbff4f8-48e9-46a1-a16e-c3e7ed4f641a"
      },
      "execution_count": null,
      "outputs": [
        {
          "output_type": "execute_result",
          "data": {
            "text/plain": [
              "     7                                               6                                             ↪\n",
              "  ⅈ⋅t ⋅(-1024⋅\\hat{\\sigma}₊ + 1024⋅\\hat{\\sigma}₋)   t ⋅(-256⋅\\hat{\\sigma}₊ - 256⋅\\hat{\\sigma}₋ + 2 ↪\n",
              "- ─────────────────────────────────────────────── - ────────────────────────────────────────────── ↪\n",
              "                       5040                                                       720              ↪\n",
              "\n",
              "↪                         5                                             4                          ↪\n",
              "↪ 56⋅\\hat{\\sigma}_z)   ⅈ⋅t ⋅(-128⋅\\hat{\\sigma}₊ + 128⋅\\hat{\\sigma}₋)   t ⋅(-32⋅\\hat{\\sigma}₊ - 32⋅ ↪\n",
              "↪ ────────────────── + ───────────────────────────────────────────── + ─────────────────────────── ↪\n",
              "↪                                           120                                                    ↪\n",
              "\n",
              "↪                                         3                                           2            ↪\n",
              "↪ \\hat{\\sigma}₋ + 32⋅\\hat{\\sigma}_z)   ⅈ⋅t ⋅(-16⋅\\hat{\\sigma}₊ + 16⋅\\hat{\\sigma}₋)   t ⋅(-4⋅\\hat{\\ ↪\n",
              "↪ ────────────────────────────────── - ─────────────────────────────────────────── - ───────────── ↪\n",
              "↪   24                                                      6                                      ↪\n",
              "\n",
              "↪                                                                                                  ↪\n",
              "↪ sigma}₊ - 4⋅\\hat{\\sigma}₋ + 4⋅\\hat{\\sigma}_z)                                                    ↪\n",
              "↪ ───────────────────────────────────────────── + ⅈ⋅t⋅(-2⋅\\hat{\\sigma}₊ + 2⋅\\hat{\\sigma}₋) + \\hat{ ↪\n",
              "↪                2                                                                                 ↪\n",
              "\n",
              "↪          \n",
              "↪          \n",
              "↪ \\sigma}_z\n",
              "↪          "
            ],
            "text/latex": "$\\displaystyle - \\frac{i t^{7} \\left(- 1024 \\hat{\\sigma}_+ + 1024 \\hat{\\sigma}_-\\right)}{5040} - \\frac{t^{6} \\left(- 256 \\hat{\\sigma}_+ - 256 \\hat{\\sigma}_- + 256 \\hat{\\sigma}_z\\right)}{720} + \\frac{i t^{5} \\left(- 128 \\hat{\\sigma}_+ + 128 \\hat{\\sigma}_-\\right)}{120} + \\frac{t^{4} \\left(- 32 \\hat{\\sigma}_+ - 32 \\hat{\\sigma}_- + 32 \\hat{\\sigma}_z\\right)}{24} - \\frac{i t^{3} \\left(- 16 \\hat{\\sigma}_+ + 16 \\hat{\\sigma}_-\\right)}{6} - \\frac{t^{2} \\left(- 4 \\hat{\\sigma}_+ - 4 \\hat{\\sigma}_- + 4 \\hat{\\sigma}_z\\right)}{2} + i t \\left(- 2 \\hat{\\sigma}_+ + 2 \\hat{\\sigma}_-\\right) + \\hat{\\sigma}_z$"
          },
          "metadata": {},
          "execution_count": 14
        }
      ]
    },
    {
      "cell_type": "code",
      "source": [
        "BCH_sigma_1 = collect_all(BCH_sigma,l_2)\n",
        "BCH_sigma_1"
      ],
      "metadata": {
        "colab": {
          "base_uri": "https://localhost:8080/",
          "height": 100
        },
        "id": "alRyv3VSyQJx",
        "outputId": "6dccd401-f8c2-4565-e99f-e674f0084ee8"
      },
      "execution_count": null,
      "outputs": [
        {
          "output_type": "execute_result",
          "data": {
            "text/plain": [
              "⎛      6      4           ⎞                  ⎛        7       6         5      4        3          ↪\n",
              "⎜  16⋅t    4⋅t       2    ⎟                  ⎜  64⋅ⅈ⋅t    16⋅t    16⋅ⅈ⋅t    4⋅t    8⋅ⅈ⋅t       2   ↪\n",
              "⎜- ───── + ──── - 2⋅t  + 1⎟⋅\\hat{\\sigma}_z + ⎜- ─────── + ───── + ─────── - ──── - ────── + 2⋅t  + ↪\n",
              "⎝   45      3             ⎠                  ⎝    315      45       15       3       3             ↪\n",
              "\n",
              "↪       ⎞                 ⎛      7       6         5      4        3               ⎞              \n",
              "↪       ⎟                 ⎜64⋅ⅈ⋅t    16⋅t    16⋅ⅈ⋅t    4⋅t    8⋅ⅈ⋅t       2        ⎟              \n",
              "↪  2⋅ⅈ⋅t⎟⋅\\hat{\\sigma}₋ + ⎜─────── + ───── - ─────── - ──── + ────── + 2⋅t  - 2⋅ⅈ⋅t⎟⋅\\hat{\\sigma}₊\n",
              "↪       ⎠                 ⎝  315      45       15       3       3                  ⎠              "
            ],
            "text/latex": "$\\displaystyle \\left(- \\frac{16 t^{6}}{45} + \\frac{4 t^{4}}{3} - 2 t^{2} + 1\\right) \\hat{\\sigma}_z + \\left(- \\frac{64 i t^{7}}{315} + \\frac{16 t^{6}}{45} + \\frac{16 i t^{5}}{15} - \\frac{4 t^{4}}{3} - \\frac{8 i t^{3}}{3} + 2 t^{2} + 2 i t\\right) \\hat{\\sigma}_- + \\left(\\frac{64 i t^{7}}{315} + \\frac{16 t^{6}}{45} - \\frac{16 i t^{5}}{15} - \\frac{4 t^{4}}{3} + \\frac{8 i t^{3}}{3} + 2 t^{2} - 2 i t\\right) \\hat{\\sigma}_+$"
          },
          "metadata": {},
          "execution_count": 15
        }
      ]
    },
    {
      "cell_type": "code",
      "source": [
        "(I*series(sin(t)**2,t,0,8).removeO()).expand()"
      ],
      "metadata": {
        "colab": {
          "base_uri": "https://localhost:8080/",
          "height": 54
        },
        "id": "hbylRQS_nDOY",
        "outputId": "8fe52a22-aeee-47b2-cd09-00c06707d452"
      },
      "execution_count": null,
      "outputs": [
        {
          "output_type": "execute_result",
          "data": {
            "text/plain": [
              "     6      4       \n",
              "2⋅ⅈ⋅t    ⅈ⋅t       2\n",
              "────── - ──── + ⅈ⋅t \n",
              "  45      3         "
            ],
            "text/latex": "$\\displaystyle \\frac{2 i t^{6}}{45} - \\frac{i t^{4}}{3} + i t^{2}$"
          },
          "metadata": {},
          "execution_count": 51
        }
      ]
    },
    {
      "cell_type": "code",
      "source": [
        "BCH_sigma_2 = collect_and_save_all(BCH_sigma,l_2)\n",
        "BCH_sigma_2"
      ],
      "metadata": {
        "colab": {
          "base_uri": "https://localhost:8080/",
          "height": 58
        },
        "id": "s9XnDF7TymQ4",
        "outputId": "1cda1d59-e563-4c06-bccf-8cab13739b54"
      },
      "execution_count": null,
      "outputs": [
        {
          "output_type": "execute_result",
          "data": {
            "text/plain": [
              "⎡      6      4                   7       6         5      4        3                         7    ↪\n",
              "⎢  16⋅t    4⋅t       2      64⋅ⅈ⋅t    16⋅t    16⋅ⅈ⋅t    4⋅t    8⋅ⅈ⋅t       2            64⋅ⅈ⋅t     ↪\n",
              "⎢- ───── + ──── - 2⋅t  + 1, ─────── + ───── - ─────── - ──── + ────── + 2⋅t  - 2⋅ⅈ⋅t, - ─────── +  ↪\n",
              "⎣   45      3                 315      45       15       3       3                        315      ↪\n",
              "\n",
              "↪     6         5      4        3               ⎤\n",
              "↪ 16⋅t    16⋅ⅈ⋅t    4⋅t    8⋅ⅈ⋅t       2        ⎥\n",
              "↪ ───── + ─────── - ──── - ────── + 2⋅t  + 2⋅ⅈ⋅t⎥\n",
              "↪  45       15       3       3                  ⎦"
            ],
            "text/latex": "$\\displaystyle \\left[ - \\frac{16 t^{6}}{45} + \\frac{4 t^{4}}{3} - 2 t^{2} + 1, \\  \\frac{64 i t^{7}}{315} + \\frac{16 t^{6}}{45} - \\frac{16 i t^{5}}{15} - \\frac{4 t^{4}}{3} + \\frac{8 i t^{3}}{3} + 2 t^{2} - 2 i t, \\  - \\frac{64 i t^{7}}{315} + \\frac{16 t^{6}}{45} + \\frac{16 i t^{5}}{15} - \\frac{4 t^{4}}{3} - \\frac{8 i t^{3}}{3} + 2 t^{2} + 2 i t\\right]$"
          },
          "metadata": {},
          "execution_count": 16
        }
      ]
    },
    {
      "cell_type": "code",
      "source": [
        "BCH_sigma_3 = compare_all(BCH_sigma_2,l_2,7)\n",
        "BCH_sigma_3"
      ],
      "metadata": {
        "colab": {
          "base_uri": "https://localhost:8080/",
          "height": 58
        },
        "id": "GIkFqkBNEK5g",
        "outputId": "a71b3589-fdb3-4228-83e1-f08ee501187b"
      },
      "execution_count": null,
      "outputs": [
        {
          "output_type": "execute_result",
          "data": {
            "text/plain": [
              "⎡      6      4                   7       6         5      4        3                         7    ↪\n",
              "⎢  16⋅t    4⋅t       2      64⋅ⅈ⋅t    16⋅t    16⋅ⅈ⋅t    4⋅t    8⋅ⅈ⋅t       2            64⋅ⅈ⋅t     ↪\n",
              "⎢- ───── + ──── - 2⋅t  + 1, ─────── + ───── - ─────── - ──── + ────── + 2⋅t  - 2⋅ⅈ⋅t, - ─────── +  ↪\n",
              "⎣   45      3                 315      45       15       3       3                        315      ↪\n",
              "\n",
              "↪     6         5      4        3               ⎤\n",
              "↪ 16⋅t    16⋅ⅈ⋅t    4⋅t    8⋅ⅈ⋅t       2        ⎥\n",
              "↪ ───── + ─────── - ──── - ────── + 2⋅t  + 2⋅ⅈ⋅t⎥\n",
              "↪  45       15       3       3                  ⎦"
            ],
            "text/latex": "$\\displaystyle \\left[ - \\frac{16 t^{6}}{45} + \\frac{4 t^{4}}{3} - 2 t^{2} + 1, \\  \\frac{64 i t^{7}}{315} + \\frac{16 t^{6}}{45} - \\frac{16 i t^{5}}{15} - \\frac{4 t^{4}}{3} + \\frac{8 i t^{3}}{3} + 2 t^{2} - 2 i t, \\  - \\frac{64 i t^{7}}{315} + \\frac{16 t^{6}}{45} + \\frac{16 i t^{5}}{15} - \\frac{4 t^{4}}{3} - \\frac{8 i t^{3}}{3} + 2 t^{2} + 2 i t\\right]$"
          },
          "metadata": {},
          "execution_count": 17
        }
      ]
    },
    {
      "cell_type": "code",
      "source": [
        "BCH_A = BCH(H_3,a_dag,alpha,7).subs({alpha:I*t})\n",
        "BCH_A"
      ],
      "metadata": {
        "colab": {
          "base_uri": "https://localhost:8080/",
          "height": 54
        },
        "id": "Oi55lXI0NLDQ",
        "outputId": "ae74bfd5-56ee-446a-a495-ac76b16f3a7d"
      },
      "execution_count": null,
      "outputs": [
        {
          "output_type": "execute_result",
          "data": {
            "text/plain": [
              "          7  7                            6  6                              5  5                   ↪\n",
              "  ⅈ⋅\\omega ⋅t ⋅\\hat{a}__{\\dagger}   \\omega ⋅t ⋅\\hat{a}__{\\dagger}   ⅈ⋅\\omega ⋅t ⋅\\hat{a}__{\\dagger ↪\n",
              "- ─────────────────────────────── - ───────────────────────────── + ────────────────────────────── ↪\n",
              "               5040                              720                              120              ↪\n",
              "\n",
              "↪           4  4                              3  3                            2  2                 ↪\n",
              "↪ }   \\omega ⋅t ⋅\\hat{a}__{\\dagger}   ⅈ⋅\\omega ⋅t ⋅\\hat{a}__{\\dagger}   \\omega ⋅t ⋅\\hat{a}__{\\dagg ↪\n",
              "↪ ─ + ───────────────────────────── - ─────────────────────────────── - ────────────────────────── ↪\n",
              "↪                  24                                6                                2            ↪\n",
              "\n",
              "↪                                                         \n",
              "↪ er}                                                     \n",
              "↪ ─── + ⅈ⋅\\omega⋅t⋅\\hat{a}__{\\dagger} + \\hat{a}__{\\dagger}\n",
              "↪                                                         "
            ],
            "text/latex": "$\\displaystyle - \\frac{i \\omega^{7} t^{7} \\hat{a}^{\\dagger}}{5040} - \\frac{\\omega^{6} t^{6} \\hat{a}^{\\dagger}}{720} + \\frac{i \\omega^{5} t^{5} \\hat{a}^{\\dagger}}{120} + \\frac{\\omega^{4} t^{4} \\hat{a}^{\\dagger}}{24} - \\frac{i \\omega^{3} t^{3} \\hat{a}^{\\dagger}}{6} - \\frac{\\omega^{2} t^{2} \\hat{a}^{\\dagger}}{2} + i \\omega t \\hat{a}^{\\dagger} + \\hat{a}^{\\dagger}$"
          },
          "metadata": {},
          "execution_count": 18
        }
      ]
    },
    {
      "cell_type": "code",
      "source": [
        "BCH_A_1 = collect_all(BCH_A,l_3)\n",
        "BCH_A_1"
      ],
      "metadata": {
        "colab": {
          "base_uri": "https://localhost:8080/",
          "height": 58
        },
        "id": "o1SwG1l0Nd88",
        "outputId": "a4c3276e-9302-406b-9097-be0574792f83"
      },
      "execution_count": null,
      "outputs": [
        {
          "output_type": "execute_result",
          "data": {
            "text/plain": [
              "⎛          7  7         6  6           5  5         4  4           3  3         2  2               ↪\n",
              "⎜  ⅈ⋅\\omega ⋅t    \\omega ⋅t    ⅈ⋅\\omega ⋅t    \\omega ⋅t    ⅈ⋅\\omega ⋅t    \\omega ⋅t                ↪\n",
              "⎜- ──────────── - ────────── + ──────────── + ────────── - ──────────── - ────────── + ⅈ⋅\\omega⋅t  ↪\n",
              "⎝      5040          720           120            24            6             2                    ↪\n",
              "\n",
              "↪    ⎞                   \n",
              "↪    ⎟                   \n",
              "↪ + 1⎟⋅\\hat{a}__{\\dagger}\n",
              "↪    ⎠                   "
            ],
            "text/latex": "$\\displaystyle \\left(- \\frac{i \\omega^{7} t^{7}}{5040} - \\frac{\\omega^{6} t^{6}}{720} + \\frac{i \\omega^{5} t^{5}}{120} + \\frac{\\omega^{4} t^{4}}{24} - \\frac{i \\omega^{3} t^{3}}{6} - \\frac{\\omega^{2} t^{2}}{2} + i \\omega t + 1\\right) \\hat{a}^{\\dagger}$"
          },
          "metadata": {},
          "execution_count": 19
        }
      ]
    },
    {
      "cell_type": "code",
      "source": [
        "BCH_A_2 = collect_and_save_all(BCH_A,l_3)\n",
        "BCH_A_2"
      ],
      "metadata": {
        "colab": {
          "base_uri": "https://localhost:8080/",
          "height": 58
        },
        "id": "K7ilLSmSNpd3",
        "outputId": "7a8c08f3-9aa8-497a-f9ae-9e918d12fb61"
      },
      "execution_count": null,
      "outputs": [
        {
          "output_type": "execute_result",
          "data": {
            "text/plain": [
              "⎡             7  7         6  6           5  5         4  4           3  3         2  2            ↪\n",
              "⎢     ⅈ⋅\\omega ⋅t    \\omega ⋅t    ⅈ⋅\\omega ⋅t    \\omega ⋅t    ⅈ⋅\\omega ⋅t    \\omega ⋅t             ↪\n",
              "⎢0, - ──────────── - ────────── + ──────────── + ────────── - ──────────── - ────────── + ⅈ⋅\\omega ↪\n",
              "⎣         5040          720           120            24            6             2                 ↪\n",
              "\n",
              "↪       ⎤\n",
              "↪       ⎥\n",
              "↪ ⋅t + 1⎥\n",
              "↪       ⎦"
            ],
            "text/latex": "$\\displaystyle \\left[ 0, \\  - \\frac{i \\omega^{7} t^{7}}{5040} - \\frac{\\omega^{6} t^{6}}{720} + \\frac{i \\omega^{5} t^{5}}{120} + \\frac{\\omega^{4} t^{4}}{24} - \\frac{i \\omega^{3} t^{3}}{6} - \\frac{\\omega^{2} t^{2}}{2} + i \\omega t + 1\\right]$"
          },
          "metadata": {},
          "execution_count": 20
        }
      ]
    },
    {
      "cell_type": "code",
      "source": [
        "BCH_A_3 = compare_all(BCH_A_2,l_3,7)\n",
        "BCH_A_3"
      ],
      "metadata": {
        "id": "EKVhj1nWNsqN",
        "outputId": "4bc11a83-67bc-44dd-8c8a-a56b9e19af43",
        "colab": {
          "base_uri": "https://localhost:8080/",
          "height": 58
        }
      },
      "execution_count": null,
      "outputs": [
        {
          "output_type": "execute_result",
          "data": {
            "text/plain": [
              "⎡             7  7         6  6           5  5         4  4           3  3         2  2            ↪\n",
              "⎢     ⅈ⋅\\omega ⋅t    \\omega ⋅t    ⅈ⋅\\omega ⋅t    \\omega ⋅t    ⅈ⋅\\omega ⋅t    \\omega ⋅t             ↪\n",
              "⎢0, - ──────────── - ────────── + ──────────── + ────────── - ──────────── - ────────── + ⅈ⋅\\omega ↪\n",
              "⎣         5040          720           120            24            6             2                 ↪\n",
              "\n",
              "↪       ⎤\n",
              "↪       ⎥\n",
              "↪ ⋅t + 1⎥\n",
              "↪       ⎦"
            ],
            "text/latex": "$\\displaystyle \\left[ 0, \\  - \\frac{i \\omega^{7} t^{7}}{5040} - \\frac{\\omega^{6} t^{6}}{720} + \\frac{i \\omega^{5} t^{5}}{120} + \\frac{\\omega^{4} t^{4}}{24} - \\frac{i \\omega^{3} t^{3}}{6} - \\frac{\\omega^{2} t^{2}}{2} + i \\omega t + 1\\right]$"
          },
          "metadata": {},
          "execution_count": 21
        }
      ]
    },
    {
      "cell_type": "code",
      "source": [
        "Latex(series(exp(-I*omega*t),t,0,8).removeO())"
      ],
      "metadata": {
        "colab": {
          "base_uri": "https://localhost:8080/"
        },
        "id": "0Vt1LY05pqv7",
        "outputId": "4d03f302-258f-4c47-ca05-7ff3d637b3f9"
      },
      "execution_count": null,
      "outputs": [
        {
          "output_type": "stream",
          "name": "stdout",
          "text": [
            "\\frac{i \\omega^{7} t^{7}}{5040} - \\frac{\\omega^{6} t^{6}}{720} - \\frac{i \\omega^{5} t^{5}}{120} + \\frac{\\omega^{4} t^{4}}{24} + \\frac{i \\omega^{3} t^{3}}{6} - \\frac{\\omega^{2} t^{2}}{2} - i \\omega t + 1\n"
          ]
        }
      ]
    },
    {
      "cell_type": "markdown",
      "source": [
        "\n",
        "$\n",
        "\\frac{i \\omega^{7} t^{7}}{5040} - \\frac{\\omega^{6} t^{6}}{720} - \\frac{i \\omega^{5} t^{5}}{120} + \\frac{\\omega^{4} t^{4}}{24} + \\frac{i \\omega^{3} t^{3}}{6} - \\frac{\\omega^{2} t^{2}}{2} - i \\omega t + 1\n",
        "$\n"
      ],
      "metadata": {
        "id": "Pex6c1_ar6Uk"
      }
    },
    {
      "cell_type": "code",
      "source": [
        "def BCHxp(A,B,theta):\n",
        "  bch = B+theta*conmutadorxp(A,B)+theta**2/factorial(2)*conmutadorxp(A,conmutadorxp(A,B))+theta**3/factorial(3)*conmutadorxp(A,conmutadorxp(A,conmutadorxp(A,B)))+theta**4/factorial(4)*conmutadorxp(A,conmutadorxp(A,conmutadorxp(A,conmutadorxp(A,B))))+theta**5/factorial(5)*conmutadorxp(A,conmutadorxp(A,conmutadorxp(A,conmutadorxp(A,conmutadorxp(A,B)))))+theta**6/factorial(6)*conmutadorxp(A,conmutadorxp(A,conmutadorxp(A,conmutadorxp(A,conmutadorxp(A,conmutadorxp(A,B))))))+theta**7/factorial(7)*conmutadorxp(A,conmutadorxp(A,conmutadorxp(A,conmutadorxp(A,conmutadorxp(A,conmutadorxp(A,conmutadorxp(A,B)))))))\n",
        "  bchxa = collect_coeff(bch,x_1)\n",
        "  bchxb = collect_coeff(bch,x_2)\n",
        "  bchpa = collect_coeff(bch,p_1)\n",
        "  bchpb = collect_coeff(bch,p_2)\n",
        "  if bchxa.coeff(x_1)==series(cos(theta.args[1]),theta.args[1],0,8).removeO():\n",
        "    bchxa = cos(theta.args[1])*x_1\n",
        "  if bchxa.coeff(x_1)==series(sin(theta.args[1]),theta.args[1],0,8).removeO():\n",
        "    bchxa = sin(theta.args[1])*x_1\n",
        "  #---------------\n",
        "  if bchxb.coeff(x_2)==series(cos(theta.args[1]),theta.args[1],0,8).removeO():\n",
        "    bchxb = cos(theta.args[1])*x_2\n",
        "  if bchxb.coeff(x_2)==series(sin(theta.args[1]),theta.args[1],0,8).removeO():\n",
        "    bchxb = sin(theta.args[1])*x_2\n",
        "  if bchxb.coeff(x_2)==series(-sin(theta.args[1]),theta.args[1],0,8).removeO():\n",
        "    bchxb = -sin(theta.args[1])*x_2\n",
        "  #---------------\n",
        "  if bchpa.coeff(p_1)==series(cos(theta.args[1]),theta.args[1],0,8).removeO():\n",
        "     bchpa = cos(theta.args[1])*p_1\n",
        "  if bchpa.coeff(p_1)==series(sin(theta.args[1]),theta.args[1],0,8).removeO():\n",
        "     bchpa = sin(theta.args[1])*p_1\n",
        "  if bchpb.coeff(p_2)==series(cos(theta.args[1]),theta.args[1],0,8).removeO():\n",
        "     bchpb = cos(theta.args[1])*p_2\n",
        "  if bchpb.coeff(p_2)==series(sin(theta.args[1]),theta.args[1],0,8).removeO():\n",
        "     bchpb = sin(theta.args[1])*p_2\n",
        "  if bchpb.coeff(p_2)==series(-sin(theta.args[1]),theta.args[1],0,8).removeO():\n",
        "     bchpb = -sin(theta.args[1])*p_2\n",
        "  #-------------------------------\n",
        "  if bchxa.coeff(x_1)==series(exp(2*theta.args[1]),theta.args[1],0,8).removeO():\n",
        "     bchxa = exp(2*theta.args[1])*x_1\n",
        "  if bchxb.coeff(x_2)==series(exp(2*theta.args[1]),theta.args[1],0,8).removeO():\n",
        "     bchxb = exp(2*theta.args[1])*x_2\n",
        "  if bchpa.coeff(p_1)==series(exp(-2*theta.args[1]),theta.args[1],0,8).removeO():\n",
        "     bchpa = exp(-2*theta.args[1])*p_1\n",
        "  if bchpb.coeff(p_2)==series(exp(-2*theta.args[1]),theta.args[1],0,8).removeO():\n",
        "     bchpb = exp(-2*theta.args[1])*p_2\n",
        "  return bchxa+bchxb+bchpa+bchpb"
      ],
      "metadata": {
        "id": "0mZpUx-nTB4G"
      },
      "execution_count": null,
      "outputs": []
    },
    {
      "cell_type": "code",
      "source": [
        "def BHCexp(A,B,alpha,n):\n",
        "  bhc = BCH(A, B, alpha, n)\n",
        "  expression = collect_all(bhc,l)\n",
        "  for i in range(len(l)):\n",
        "\n",
        "\n"
      ],
      "metadata": {
        "id": "pccQ76u5TC_P"
      },
      "execution_count": null,
      "outputs": []
    }
  ]
}